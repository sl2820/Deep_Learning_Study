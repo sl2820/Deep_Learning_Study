{
  "nbformat": 4,
  "nbformat_minor": 0,
  "metadata": {
    "colab": {
      "name": "Fashion_MNIST_Practice_keras.ipynb",
      "version": "0.3.2",
      "provenance": [],
      "toc_visible": true,
      "include_colab_link": true
    },
    "kernelspec": {
      "name": "python3",
      "display_name": "Python 3"
    },
    "accelerator": "GPU"
  },
  "cells": [
    {
      "cell_type": "markdown",
      "metadata": {
        "id": "view-in-github",
        "colab_type": "text"
      },
      "source": [
        "[View in Colaboratory](https://colab.research.google.com/github/sl2820/Deep_Learning_Study/blob/master/Fashion_MNIST_Practice_keras.ipynb)"
      ]
    },
    {
      "metadata": {
        "id": "zodLYK-blrY8",
        "colab_type": "text"
      },
      "cell_type": "markdown",
      "source": [
        "# Fashion MNIST \n",
        "Using Fashion MNIST dataset to implement CNN"
      ]
    },
    {
      "metadata": {
        "id": "i0nFJqXr7eJ_",
        "colab_type": "text"
      },
      "cell_type": "markdown",
      "source": [
        "### Data Labels\n",
        "0: T-Shirts/Tops\n",
        "\n",
        "1: Pants\n",
        "\n",
        "2: Pullovers\n",
        "\n",
        "3: Dress\n",
        "\n",
        "4: Coat\n",
        "\n",
        "5: Sandals\n",
        "\n",
        "6: Shirts\n",
        "\n",
        "7: Sneakers\n",
        "\n",
        "8: Backpacks\n",
        "\n",
        "9: Ankle Boots\n"
      ]
    },
    {
      "metadata": {
        "id": "eXHnxfE5-xcd",
        "colab_type": "text"
      },
      "cell_type": "markdown",
      "source": [
        "## Import the Fashion MNIST Dataset"
      ]
    },
    {
      "metadata": {
        "id": "WzFG-4Bo-63W",
        "colab_type": "code",
        "colab": {
          "base_uri": "https://localhost:8080/",
          "height": 34
        },
        "outputId": "cfff049f-6a62-4343-d8d6-5c3b75673e44"
      },
      "cell_type": "code",
      "source": [
        "import tensorflow as tf\n",
        "import numpy as np\n",
        "import matplotlib.pyplot as plt\n",
        "import keras\n"
      ],
      "execution_count": 1,
      "outputs": [
        {
          "output_type": "stream",
          "text": [
            "Using TensorFlow backend.\n"
          ],
          "name": "stderr"
        }
      ]
    },
    {
      "metadata": {
        "id": "jKdeS0vfBIzw",
        "colab_type": "code",
        "colab": {
          "base_uri": "https://localhost:8080/",
          "height": 447
        },
        "outputId": "bfd29438-15be-475e-fb6f-532f2ac35bf2"
      },
      "cell_type": "code",
      "source": [
        "# Load Data set\n",
        "(x_train, y_train), (x_test, y_test) = tf.keras.datasets.fashion_mnist.load_data()\n",
        "#Show the data\n",
        "print(\"x_train shape:\", x_train.shape, \"y_train shape:\", y_train.shape)\n",
        "# Print the number of training and test datasets\n",
        "print(x_train.shape[0], 'train set')\n",
        "print(x_test.shape[0], 'test set')\n",
        "\n",
        "# Define the text labels\n",
        "fashion_mnist_labels = [\"T-shirt/top\",  # index 0\n",
        "                        \"Trouser\",      # index 1\n",
        "                        \"Pullover\",     # index 2 \n",
        "                        \"Dress\",        # index 3 \n",
        "                        \"Coat\",         # index 4\n",
        "                        \"Sandal\",       # index 5\n",
        "                        \"Shirt\",        # index 6 \n",
        "                        \"Sneaker\",      # index 7 \n",
        "                        \"Bag\",          # index 8 \n",
        "                        \"Ankle boot\"]   # index 9\n",
        "# Visualize your Data\n",
        "img_index = np.random.randint(len(x_train)+1)\n",
        "label_index = y_train[img_index]\n",
        "print (\"Label (Y) is %s and its index is %d.\" %(fashion_mnist_labels[label_index], label_index))\n",
        "plt.title(\"This is image of Data #%s\" % img_index)\n",
        "plt.imshow(x_train[img_index])"
      ],
      "execution_count": 2,
      "outputs": [
        {
          "output_type": "stream",
          "text": [
            "x_train shape: (60000, 28, 28) y_train shape: (60000,)\n",
            "60000 train set\n",
            "10000 test set\n",
            "Label (Y) is Sandal and its index is 5.\n"
          ],
          "name": "stdout"
        },
        {
          "output_type": "execute_result",
          "data": {
            "text/plain": [
              "<matplotlib.image.AxesImage at 0x7f4f09680cf8>"
            ]
          },
          "metadata": {
            "tags": []
          },
          "execution_count": 2
        },
        {
          "output_type": "display_data",
          "data": {
            "image/png": "[encoded data removed]",
            "text/plain": [
              "<matplotlib.figure.Figure at 0x7f4f09680cc0>"
            ]
          },
          "metadata": {
            "tags": []
          }
        }
      ]
    },
    {
      "metadata": {
        "id": "M79mkhXUBR8F",
        "colab_type": "text"
      },
      "cell_type": "markdown",
      "source": [
        "### Data Normalization"
      ]
    },
    {
      "metadata": {
        "id": "uqccko0NC6pu",
        "colab_type": "code",
        "colab": {}
      },
      "cell_type": "code",
      "source": [
        "# Create them to have similar sizes\n",
        "x_train = x_train.astype('float32') / 255\n",
        "x_test = x_test.astype('float32') / 255"
      ],
      "execution_count": 0,
      "outputs": []
    },
    {
      "metadata": {
        "id": "FrbLuqtzDkYP",
        "colab_type": "text"
      },
      "cell_type": "markdown",
      "source": [
        "### Split Train data into subdata sets\n",
        "Using 60,000 Training sets, divide into following subsets:\n",
        "\n",
        "Train / Validation / Test datasets"
      ]
    },
    {
      "metadata": {
        "id": "dpMr4kz4DtSO",
        "colab_type": "code",
        "colab": {
          "base_uri": "https://localhost:8080/",
          "height": 85
        },
        "outputId": "606cb3ca-a5c3-45a0-86c6-cbac29ff81fa"
      },
      "cell_type": "code",
      "source": [
        "# Further break training data into train / validation sets (# put 5000 into validation set and keep remaining 55,000 for train)\n",
        "(x_train, x_valid) = x_train[5000:], x_train[:5000] \n",
        "(y_train, y_valid) = y_train[5000:], y_train[:5000]\n",
        "\n",
        "# Reshape input data from (28, 28) to (28, 28, 1)\n",
        "w, h = 28, 28\n",
        "x_train = x_train.reshape(x_train.shape[0], w, h, 1)\n",
        "x_valid = x_valid.reshape(x_valid.shape[0], w, h, 1)\n",
        "x_test = x_test.reshape(x_test.shape[0], w, h, 1)\n",
        "\n",
        "# One-hot encode the labels\n",
        "y_train = tf.keras.utils.to_categorical(y_train, 10)\n",
        "y_valid = tf.keras.utils.to_categorical(y_valid, 10)\n",
        "y_test = tf.keras.utils.to_categorical(y_test, 10)\n",
        "\n",
        "# Print training set shape\n",
        "print(\"x_train shape:\", x_train.shape, \"y_train shape:\", y_train.shape)\n",
        "\n",
        "# Print the number of training, validation, and test datasets\n",
        "print(x_train.shape[0], 'train set')\n",
        "print(x_valid.shape[0], 'validation set')\n",
        "print(x_test.shape[0], 'test set')"
      ],
      "execution_count": 4,
      "outputs": [
        {
          "output_type": "stream",
          "text": [
            "x_train shape: (55000, 28, 28, 1) y_train shape: (55000, 10)\n",
            "55000 train set\n",
            "5000 validation set\n",
            "10000 test set\n"
          ],
          "name": "stdout"
        }
      ]
    },
    {
      "metadata": {
        "id": "SzyG-8IcHetX",
        "colab_type": "text"
      },
      "cell_type": "markdown",
      "source": [
        "## Model"
      ]
    },
    {
      "metadata": {
        "id": "6RsiLxd5HmmH",
        "colab_type": "text"
      },
      "cell_type": "markdown",
      "source": [
        "### Create Model Architecture"
      ]
    },
    {
      "metadata": {
        "id": "0wD7TFxPHsA4",
        "colab_type": "code",
        "colab": {
          "base_uri": "https://localhost:8080/",
          "height": 476
        },
        "outputId": "5d7fc1ed-b3c8-496c-f968-7ba1e56266de"
      },
      "cell_type": "code",
      "source": [
        "model = tf.keras.Sequential()\n",
        "\n",
        "# Must define the input shape in the first layer of the neural network\n",
        "model.add(tf.keras.layers.Conv2D(filters=64, kernel_size=2, padding='same', activation='relu', input_shape=(28,28,1))) \n",
        "# Param = output_channels * (input_channels * kernal_size + 1) = 64 * (1*(2*2)+1) = 320\n",
        "model.add(tf.keras.layers.MaxPooling2D(pool_size=2))\n",
        "model.add(tf.keras.layers.Dropout(0.3))\n",
        "\n",
        "model.add(tf.keras.layers.Conv2D(filters=32, kernel_size=2, padding='same', activation='relu'))\n",
        "# Param = output_channels * (input_channels * kernal_size + 1) = 32 * (64 *(2*2) + 1) = 8224\n",
        "model.add(tf.keras.layers.MaxPooling2D(pool_size=2))\n",
        "model.add(tf.keras.layers.Dropout(0.3))\n",
        "\n",
        "#model.add(tf.keras.layers.Conv2D(filters=32, kernel_size=2, padding='same', activation='relu'))\n",
        "# Param = output_channels * (input_channels * kernal_size + 1) = 32 * (64 *(2*2) + 1) = 8224\n",
        "#model.add(tf.keras.layers.MaxPooling2D(pool_size=2))\n",
        "#model.add(tf.keras.layers.Dropout(0.3))\n",
        "\n",
        "model.add(tf.keras.layers.Flatten())\n",
        "model.add(tf.keras.layers.Dense(256, activation='relu'))\n",
        "# Param = output_size * (input_size + 1) = 1568*256 + 256\n",
        "model.add(tf.keras.layers.Dropout(0.5))\n",
        "model.add(tf.keras.layers.Dense(10, activation='softmax'))\n",
        "# Param = output_size * (input_size + 1) = 256*10 + 10\n",
        "\n",
        "# Take a look at the model summary\n",
        "model.summary()"
      ],
      "execution_count": 5,
      "outputs": [
        {
          "output_type": "stream",
          "text": [
            "_________________________________________________________________\n",
            "Layer (type)                 Output Shape              Param #   \n",
            "=================================================================\n",
            "conv2d (Conv2D)              (None, 28, 28, 64)        320       \n",
            "_________________________________________________________________\n",
            "max_pooling2d (MaxPooling2D) (None, 14, 14, 64)        0         \n",
            "_________________________________________________________________\n",
            "dropout (Dropout)            (None, 14, 14, 64)        0         \n",
            "_________________________________________________________________\n",
            "conv2d_1 (Conv2D)            (None, 14, 14, 32)        8224      \n",
            "_________________________________________________________________\n",
            "max_pooling2d_1 (MaxPooling2 (None, 7, 7, 32)          0         \n",
            "_________________________________________________________________\n",
            "dropout_1 (Dropout)          (None, 7, 7, 32)          0         \n",
            "_________________________________________________________________\n",
            "flatten (Flatten)            (None, 1568)              0         \n",
            "_________________________________________________________________\n",
            "dense (Dense)                (None, 256)               401664    \n",
            "_________________________________________________________________\n",
            "dropout_2 (Dropout)          (None, 256)               0         \n",
            "_________________________________________________________________\n",
            "dense_1 (Dense)              (None, 10)                2570      \n",
            "=================================================================\n",
            "Total params: 412,778\n",
            "Trainable params: 412,778\n",
            "Non-trainable params: 0\n",
            "_________________________________________________________________\n"
          ],
          "name": "stdout"
        }
      ]
    },
    {
      "metadata": {
        "id": "EsqyVeR1JjZQ",
        "colab_type": "text"
      },
      "cell_type": "markdown",
      "source": [
        "### Compile the model"
      ]
    },
    {
      "metadata": {
        "id": "kbr6C3KpOFAR",
        "colab_type": "code",
        "colab": {
          "base_uri": "https://localhost:8080/",
          "height": 34
        },
        "outputId": "851cf90b-fd81-468b-e3b6-a7e9cdc1abc3"
      },
      "cell_type": "code",
      "source": [
        "model.compile(loss='categorical_crossentropy',\n",
        "             optimizer='adam',\n",
        "             metrics=['accuracy'])\n",
        "print(\"Compile Completed\")"
      ],
      "execution_count": 6,
      "outputs": [
        {
          "output_type": "stream",
          "text": [
            "Compile Completed\n"
          ],
          "name": "stdout"
        }
      ]
    },
    {
      "metadata": {
        "id": "Zoc16vfcOLZS",
        "colab_type": "text"
      },
      "cell_type": "markdown",
      "source": [
        "### Train the Model"
      ]
    },
    {
      "metadata": {
        "id": "XdmYgTbcOGLx",
        "colab_type": "code",
        "colab": {
          "base_uri": "https://localhost:8080/",
          "height": 751
        },
        "outputId": "40394372-90c6-4bb2-fb4a-dd47432ba345"
      },
      "cell_type": "code",
      "source": [
        "from keras.callbacks import ModelCheckpoint\n",
        "\n",
        "checkpointer = ModelCheckpoint(filepath='model.weights.best.hdf5', verbose = 1, save_best_only=True)\n",
        "model.fit(x_train,\n",
        "         y_train,\n",
        "         batch_size=64,\n",
        "         epochs=10,\n",
        "         validation_data=(x_valid, y_valid),\n",
        "         callbacks=[checkpointer])"
      ],
      "execution_count": 7,
      "outputs": [
        {
          "output_type": "stream",
          "text": [
            "Train on 55000 samples, validate on 5000 samples\n",
            "Epoch 1/10\n",
            "54912/55000 [============================>.] - ETA: 0s - loss: 0.6178 - acc: 0.7721\n",
            "Epoch 00001: val_loss improved from inf to 0.37623, saving model to model.weights.best.hdf5\n",
            "55000/55000 [==============================] - 13s 234us/step - loss: 0.6175 - acc: 0.7722 - val_loss: 0.3762 - val_acc: 0.8672\n",
            "Epoch 2/10\n",
            "54976/55000 [============================>.] - ETA: 0s - loss: 0.4250 - acc: 0.8453\n",
            "Epoch 00002: val_loss improved from 0.37623 to 0.33150, saving model to model.weights.best.hdf5\n",
            "55000/55000 [==============================] - 11s 203us/step - loss: 0.4249 - acc: 0.8453 - val_loss: 0.3315 - val_acc: 0.8832\n",
            "Epoch 3/10\n",
            "54784/55000 [============================>.] - ETA: 0s - loss: 0.3765 - acc: 0.8631\n",
            "Epoch 00003: val_loss improved from 0.33150 to 0.30502, saving model to model.weights.best.hdf5\n",
            "55000/55000 [==============================] - 11s 196us/step - loss: 0.3767 - acc: 0.8630 - val_loss: 0.3050 - val_acc: 0.8900\n",
            "Epoch 4/10\n",
            "54912/55000 [============================>.] - ETA: 0s - loss: 0.3458 - acc: 0.8742\n",
            "Epoch 00004: val_loss improved from 0.30502 to 0.27616, saving model to model.weights.best.hdf5\n",
            "55000/55000 [==============================] - 11s 195us/step - loss: 0.3459 - acc: 0.8742 - val_loss: 0.2762 - val_acc: 0.8976\n",
            "Epoch 5/10\n",
            "54848/55000 [============================>.] - ETA: 0s - loss: 0.3238 - acc: 0.8808\n",
            "Epoch 00005: val_loss improved from 0.27616 to 0.26312, saving model to model.weights.best.hdf5\n",
            "55000/55000 [==============================] - 11s 195us/step - loss: 0.3235 - acc: 0.8810 - val_loss: 0.2631 - val_acc: 0.9040\n",
            "Epoch 6/10\n",
            "54720/55000 [============================>.] - ETA: 0s - loss: 0.3095 - acc: 0.8868\n",
            "Epoch 00006: val_loss improved from 0.26312 to 0.25697, saving model to model.weights.best.hdf5\n",
            "55000/55000 [==============================] - 11s 196us/step - loss: 0.3096 - acc: 0.8867 - val_loss: 0.2570 - val_acc: 0.9070\n",
            "Epoch 7/10\n",
            "54912/55000 [============================>.] - ETA: 0s - loss: 0.2967 - acc: 0.8909\n",
            "Epoch 00007: val_loss improved from 0.25697 to 0.25440, saving model to model.weights.best.hdf5\n",
            "55000/55000 [==============================] - 11s 202us/step - loss: 0.2966 - acc: 0.8910 - val_loss: 0.2544 - val_acc: 0.9078\n",
            "Epoch 8/10\n",
            "54912/55000 [============================>.] - ETA: 0s - loss: 0.2864 - acc: 0.8943\n",
            "Epoch 00008: val_loss improved from 0.25440 to 0.24111, saving model to model.weights.best.hdf5\n",
            "55000/55000 [==============================] - 11s 201us/step - loss: 0.2863 - acc: 0.8943 - val_loss: 0.2411 - val_acc: 0.9094\n",
            "Epoch 9/10\n",
            "54976/55000 [============================>.] - ETA: 0s - loss: 0.2757 - acc: 0.8972\n",
            "Epoch 00009: val_loss improved from 0.24111 to 0.23491, saving model to model.weights.best.hdf5\n",
            "55000/55000 [==============================] - 11s 204us/step - loss: 0.2756 - acc: 0.8972 - val_loss: 0.2349 - val_acc: 0.9098\n",
            "Epoch 10/10\n",
            "54976/55000 [============================>.] - ETA: 0s - loss: 0.2679 - acc: 0.9013\n",
            "Epoch 00010: val_loss improved from 0.23491 to 0.23132, saving model to model.weights.best.hdf5\n",
            "55000/55000 [==============================] - 11s 203us/step - loss: 0.2678 - acc: 0.9013 - val_loss: 0.2313 - val_acc: 0.9118\n"
          ],
          "name": "stdout"
        },
        {
          "output_type": "execute_result",
          "data": {
            "text/plain": [
              "<tensorflow.python.keras.callbacks.History at 0x7f4f06333630>"
            ]
          },
          "metadata": {
            "tags": []
          },
          "execution_count": 7
        }
      ]
    },
    {
      "metadata": {
        "id": "D9HYOnc1OP4S",
        "colab_type": "text"
      },
      "cell_type": "markdown",
      "source": [
        "### Load Model with the best validation accuracy"
      ]
    },
    {
      "metadata": {
        "id": "Zesks0Q-PmHB",
        "colab_type": "code",
        "colab": {}
      },
      "cell_type": "code",
      "source": [
        "# Load the weights with the best validation accuracy\n",
        "model.load_weights('model.weights.best.hdf5')"
      ],
      "execution_count": 0,
      "outputs": []
    },
    {
      "metadata": {
        "id": "YGQEgbWjPmfB",
        "colab_type": "text"
      },
      "cell_type": "markdown",
      "source": [
        "### Test Accuracy"
      ]
    },
    {
      "metadata": {
        "id": "ep_7jdr3PqGB",
        "colab_type": "code",
        "colab": {
          "base_uri": "https://localhost:8080/",
          "height": 51
        },
        "outputId": "85d180a8-9568-4adb-cee8-2e5712ee9857"
      },
      "cell_type": "code",
      "source": [
        "#Evaluate the model on test set\n",
        "score = model.evaluate(x_test, y_test, verbose=0)\n",
        "# Print test accuracy\n",
        "print('\\n', 'Test accuracy:', score[1])"
      ],
      "execution_count": 9,
      "outputs": [
        {
          "output_type": "stream",
          "text": [
            "\n",
            " Test accuracy: 0.9078\n"
          ],
          "name": "stdout"
        }
      ]
    },
    {
      "metadata": {
        "id": "zxzte7q3PuZi",
        "colab_type": "text"
      },
      "cell_type": "markdown",
      "source": [
        "### Visualize Prediction"
      ]
    },
    {
      "metadata": {
        "id": "siZEXToyPy0Z",
        "colab_type": "code",
        "colab": {
          "base_uri": "https://localhost:8080/",
          "height": 501
        },
        "outputId": "75645a8f-4728-4d25-e23a-17996adc1fe0"
      },
      "cell_type": "code",
      "source": [
        "y_hat = model.predict(x_test)\n",
        "\n",
        "# Plot a random sample of 10 test images, their predicted labels and ground truth\n",
        "figure = plt.figure(figsize=(20, 8))\n",
        "for i, index in enumerate(np.random.choice(x_test.shape[0], size=15, replace=False)):\n",
        "    ax = figure.add_subplot(3, 5, i + 1, xticks=[], yticks=[])\n",
        "    # Display each image\n",
        "    ax.imshow(np.squeeze(x_test[index]))\n",
        "    predict_index = np.argmax(y_hat[index])\n",
        "    true_index = np.argmax(y_test[index])\n",
        "    # Set the title for each image\n",
        "    ax.set_title(\"{} ({})\".format(fashion_mnist_labels[predict_index], \n",
        "                                  fashion_mnist_labels[true_index]),\n",
        "                                  color=(\"green\" if predict_index == true_index else \"red\"))"
      ],
      "execution_count": 12,
      "outputs": [
        {
          "output_type": "display_data",
          "data": {
            "image/png": "[encoded data removed]",
            "text/plain": [
              "<matplotlib.figure.Figure at 0x7f4f0641afd0>"
            ]
          },
          "metadata": {
            "tags": []
          }
        }
      ]
    },
    {
      "metadata": {
        "id": "BraE_NtfQEdY",
        "colab_type": "code",
        "colab": {}
      },
      "cell_type": "code",
      "source": [
        ""
      ],
      "execution_count": 0,
      "outputs": []
    }
  ]
}