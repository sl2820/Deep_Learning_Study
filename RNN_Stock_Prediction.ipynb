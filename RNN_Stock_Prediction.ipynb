{
  "nbformat": 4,
  "nbformat_minor": 0,
  "metadata": {
    "colab": {
      "name": "RNN_Stock_Prediction.ipynb",
      "version": "0.3.2",
      "provenance": [],
      "toc_visible": true,
      "include_colab_link": true
    },
    "kernelspec": {
      "name": "python3",
      "display_name": "Python 3"
    },
    "accelerator": "GPU"
  },
  "cells": [
    {
      "cell_type": "markdown",
      "metadata": {
        "id": "view-in-github",
        "colab_type": "text"
      },
      "source": [
        "[View in Colaboratory](https://colab.research.google.com/github/sl2820/Deep_Learning_Study/blob/master/RNN_Stock_Prediction.ipynb)"
      ]
    },
    {
      "metadata": {
        "id": "CocSlTb4wWC9",
        "colab_type": "text"
      },
      "cell_type": "markdown",
      "source": [
        "# Stock Pricing Prediction with RNN"
      ]
    },
    {
      "metadata": {
        "id": "N7IkzltXwe1Z",
        "colab_type": "code",
        "colab": {
          "base_uri": "https://localhost:8080/",
          "height": 34
        },
        "outputId": "f182c46d-c0bd-4ace-ec20-41af6d240da9"
      },
      "cell_type": "code",
      "source": [
        "from __future__ import print_function\n",
        "import tensorflow as tf\n",
        "import numpy as np\n",
        "import matplotlib\n",
        "import os\n",
        "import matplotlib.pyplot as plt\n",
        "%matplotlib inline\n",
        "tf.set_random_seed(0)\n",
        "print (\"Tensorflow Version is [%s]\" % (tf.__version__))"
      ],
      "execution_count": 2,
      "outputs": [
        {
          "output_type": "stream",
          "text": [
            "Tensorflow Version is [1.11.0]\n"
          ],
          "name": "stdout"
        }
      ]
    },
    {
      "metadata": {
        "id": "eDFte7qZzTtZ",
        "colab_type": "text"
      },
      "cell_type": "markdown",
      "source": [
        "Before do anything, Upload the Raw Data file first"
      ]
    },
    {
      "metadata": {
        "id": "rpsOGHlVwe0L",
        "colab_type": "text"
      },
      "cell_type": "markdown",
      "source": [
        "### Load Dataset"
      ]
    },
    {
      "metadata": {
        "id": "I5Lt4PwpweyY",
        "colab_type": "code",
        "colab": {
          "base_uri": "https://localhost:8080/",
          "height": 51
        },
        "outputId": "4c3a6981-9026-4603-deb7-334104505bee"
      },
      "cell_type": "code",
      "source": [
        "def MinMaxScaler(data):\n",
        "  numerator = data - np.min(data,0)\n",
        "  denominator = np.max(data,0) - np.min(data,0)\n",
        "  return numerator / (denominator + 1e-7)\n",
        "data = np.loadtxt('/content/data-02-stock_daily.csv', delimiter=',')\n",
        "# Reverse Order (chronically ordered)\n",
        "data = data[::-1] \n",
        "data = MinMaxScaler(data)\n",
        "x = data\n",
        "y = data[:,[-1]]\n",
        "print(\"Shape of X is %s\" % (x.shape,))\n",
        "print(\"Shape of Y is %s\" % (y.shape,))"
      ],
      "execution_count": 4,
      "outputs": [
        {
          "output_type": "stream",
          "text": [
            "Shape of X is (732, 5)\n",
            "Shape of Y is (732, 1)\n"
          ],
          "name": "stdout"
        }
      ]
    },
    {
      "metadata": {
        "id": "9d_RXdlTwewt",
        "colab_type": "text"
      },
      "cell_type": "markdown",
      "source": [
        "### Inside of Dataset \n",
        "Dataset has Five Items\n",
        "  - Open / High / Low / Volume / Close\n",
        "  \n",
        "Objective is to predict 'Close' given 7 previous items"
      ]
    },
    {
      "metadata": {
        "id": "gKgNGFzkweus",
        "colab_type": "text"
      },
      "cell_type": "markdown",
      "source": [
        "### Build a Dataset"
      ]
    },
    {
      "metadata": {
        "id": "ry9JGyxiwesX",
        "colab_type": "code",
        "colab": {
          "base_uri": "https://localhost:8080/",
          "height": 459
        },
        "outputId": "e354dac9-c205-4baa-943d-6aee844f1524"
      },
      "cell_type": "code",
      "source": [
        "timesteps = seq_len = 7  # Giveen 7 Previous Items\n",
        "data_dim = 5   # 5 items for each data\n",
        "dataX = []\n",
        "dataY = []\n",
        "for i in range(0,len(y)-seq_len):\n",
        "  _x = x[i:i+seq_len]\n",
        "  _y = y[i+seq_len]\n",
        "  dataX.append(_x)\n",
        "  dataY.append(_y)\n",
        "  if i ==0:\n",
        "    print (\"   [INPUT]\\n%s \\n   ==>\\n  [OUTPUT]\\n%s\" % (_x,_y))\n",
        "\n",
        "print()\n",
        "print (\"Type    of     'dataX' is [%s].\" %(type(dataX)))\n",
        "print (\"Length  of     'dataX' is [%d].\" %(len(dataX)))\n",
        "print (\"Length  of  'dataX[0]' is [%s].\" %(len(dataX[0])))\n",
        "print()\n",
        "print (\"Type    of     'dataY' is [%s].\" %(type(dataY)))\n",
        "print (\"Length  of     'dataY' is [%d].\" %(len(dataY)))\n",
        "print (\"Length  of  'dataY[0]' is [%s].\" %(len(dataY[0])))\n"
      ],
      "execution_count": 5,
      "outputs": [
        {
          "output_type": "stream",
          "text": [
            "   [INPUT]\n",
            "[[2.13751054e-01 2.08179810e-01 1.91791832e-01 4.66075110e-04\n",
            "  1.92092403e-01]\n",
            " [1.93935034e-01 2.03641926e-01 2.08664571e-01 2.98467330e-03\n",
            "  1.96551555e-01]\n",
            " [2.10516454e-01 2.05289413e-01 2.03558748e-01 2.59926504e-04\n",
            "  1.87749731e-01]\n",
            " [1.86678765e-01 2.09480567e-01 2.08781843e-01 0.00000000e+00\n",
            "  2.17448151e-01]\n",
            " [3.06973882e-01 3.14634137e-01 2.18993665e-01 1.24764722e-02\n",
            "  2.16981885e-01]\n",
            " [2.19142110e-01 2.63907214e-01 2.24686396e-01 4.56323384e-01\n",
            "  2.24967473e-01]\n",
            " [2.33129931e-01 2.36419163e-01 1.62682724e-01 5.70171193e-01\n",
            "  1.47442742e-01]] \n",
            "   ==>\n",
            "  [OUTPUT]\n",
            "[0.13289962]\n",
            "\n",
            "Type    of     'dataX' is [<class 'list'>].\n",
            "Length  of     'dataX' is [725].\n",
            "Length  of  'dataX[0]' is [7].\n",
            "\n",
            "Type    of     'dataY' is [<class 'list'>].\n",
            "Length  of     'dataY' is [725].\n",
            "Length  of  'dataY[0]' is [1].\n"
          ],
          "name": "stdout"
        }
      ]
    },
    {
      "metadata": {
        "id": "LumJW6wkwepo",
        "colab_type": "text"
      },
      "cell_type": "markdown",
      "source": [
        "### Split Data Train (70%) and Test (%30)"
      ]
    },
    {
      "metadata": {
        "id": "cZAJNqP8wenT",
        "colab_type": "code",
        "colab": {
          "base_uri": "https://localhost:8080/",
          "height": 153
        },
        "outputId": "a79915c0-3601-4f18-83e9-568b1bd2da20"
      },
      "cell_type": "code",
      "source": [
        "# Define a function for printing\n",
        "def print_np(_name,_x):\n",
        "  print (\"Type of [%s] is [%s]\" % (_name, type(_x)))\n",
        "  print (\"Shape of [%s] is %s\" % (_name, _x.shape,))\n",
        "\n",
        "  \n",
        "# Actual process\n",
        "train_size = int(len(dataY)*0.7)\n",
        "test_size = len(dataY)-train_size\n",
        "trainX = np.array(dataX[0:train_size])\n",
        "trainY = np.array(dataY[0:train_size])\n",
        "testX = np.array(dataX[train_size:len(dataX)])\n",
        "testY = np.array(dataY[train_size:len(dataY)])\n",
        "print_np('trainX', trainX)\n",
        "print_np('trainY', trainY)\n",
        "print_np('testX', testX)\n",
        "print_np('testY', testY)"
      ],
      "execution_count": 7,
      "outputs": [
        {
          "output_type": "stream",
          "text": [
            "Type of [trainX] is [<class 'numpy.ndarray'>]\n",
            "Shape of [trainX] is (507, 7, 5)\n",
            "Type of [trainY] is [<class 'numpy.ndarray'>]\n",
            "Shape of [trainY] is (507, 1)\n",
            "Type of [testX] is [<class 'numpy.ndarray'>]\n",
            "Shape of [testX] is (218, 7, 5)\n",
            "Type of [testY] is [<class 'numpy.ndarray'>]\n",
            "Shape of [testY] is (218, 1)\n"
          ],
          "name": "stdout"
        }
      ]
    },
    {
      "metadata": {
        "id": "WkaU5Xjiwek8",
        "colab_type": "text"
      },
      "cell_type": "markdown",
      "source": [
        "### Train Parameters\n"
      ]
    },
    {
      "metadata": {
        "id": "YZioieDTweh_",
        "colab_type": "code",
        "colab": {}
      },
      "cell_type": "code",
      "source": [
        "hidden_dim = 10\n",
        "output_dim = 1\n",
        "learning_rate = 0.01\n",
        "iterations = 500"
      ],
      "execution_count": 0,
      "outputs": []
    },
    {
      "metadata": {
        "id": "A_D9JdOIwefM",
        "colab_type": "text"
      },
      "cell_type": "markdown",
      "source": [
        "### Define Model"
      ]
    },
    {
      "metadata": {
        "id": "h5RYUGYPwedA",
        "colab_type": "code",
        "colab": {
          "base_uri": "https://localhost:8080/",
          "height": 139
        },
        "outputId": "74ccab6e-6c42-4ea1-b8de-f42193e0efe7"
      },
      "cell_type": "code",
      "source": [
        "# Placeholders\n",
        "X = tf.placeholder(tf.float32, [None, seq_len, data_dim])\n",
        "Y = tf.placeholder(tf.float32, [None, 1])\n",
        "\n",
        "# Build Model\n",
        "cell = tf.contrib.rnn.BasicLSTMCell(num_units=hidden_dim, state_is_tuple=True, activation=tf.tanh)\n",
        "outputs, _states = tf.nn.dynamic_rnn(cell, X, dtype=tf.float32)\n",
        "print (\"'X' LOOKS LIKE %s\" % (X))\n",
        "print (\"'Y' LOOKS LIKE %s\" % (Y))\n",
        "print (\"'OUTPUTS' LOOKS LIKE %s\" % (outputs))"
      ],
      "execution_count": 9,
      "outputs": [
        {
          "output_type": "stream",
          "text": [
            "WARNING:tensorflow:From <ipython-input-9-2dec5f694dc2>:5: BasicLSTMCell.__init__ (from tensorflow.python.ops.rnn_cell_impl) is deprecated and will be removed in a future version.\n",
            "Instructions for updating:\n",
            "This class is deprecated, please use tf.nn.rnn_cell.LSTMCell, which supports all the feature this cell currently has. Please replace the existing code with tf.nn.rnn_cell.LSTMCell(name='basic_lstm_cell').\n",
            "'X' LOOKS LIKE Tensor(\"Placeholder:0\", shape=(?, 7, 5), dtype=float32)\n",
            "'Y' LOOKS LIKE Tensor(\"Placeholder_1:0\", shape=(?, 1), dtype=float32)\n",
            "'OUTPUTS' LOOKS LIKE Tensor(\"rnn/transpose_1:0\", shape=(?, 7, 10), dtype=float32)\n"
          ],
          "name": "stdout"
        }
      ]
    },
    {
      "metadata": {
        "id": "wHNBWvBmwebE",
        "colab_type": "text"
      },
      "cell_type": "markdown",
      "source": [
        "for above, Note that, **input to a RNN** should look like: **[Batch, Seq_Length, Data_Dim] **"
      ]
    },
    {
      "metadata": {
        "id": "43y5n_CH4BXJ",
        "colab_type": "text"
      },
      "cell_type": "markdown",
      "source": [
        "### Add Dense Layer for Regression"
      ]
    },
    {
      "metadata": {
        "id": "N41ZLWc04BU4",
        "colab_type": "code",
        "colab": {
          "base_uri": "https://localhost:8080/",
          "height": 34
        },
        "outputId": "b9885db3-658b-430e-9d31-2dedbfd2743f"
      },
      "cell_type": "code",
      "source": [
        "#We use Last cell's output\n",
        "Y_pred = tf.contrib.layers.fully_connected(outputs[:,-1], output_dim, activation_fn=None)\n",
        "print(\"'Y_Pred' looks like %s\" % (Y_pred))"
      ],
      "execution_count": 11,
      "outputs": [
        {
          "output_type": "stream",
          "text": [
            "'Y_Pred' looks like Tensor(\"fully_connected_1/BiasAdd:0\", shape=(?, 1), dtype=float32)\n"
          ],
          "name": "stdout"
        }
      ]
    },
    {
      "metadata": {
        "id": "g5Hl2a2R4BS5",
        "colab_type": "text"
      },
      "cell_type": "markdown",
      "source": [
        "### Define Operators"
      ]
    },
    {
      "metadata": {
        "id": "y22WkFmu4BPc",
        "colab_type": "code",
        "colab": {
          "base_uri": "https://localhost:8080/",
          "height": 34
        },
        "outputId": "0b9c6289-71bf-44db-f7be-23b19f43f9e5"
      },
      "cell_type": "code",
      "source": [
        "# Optimize\n",
        "loss = tf.reduce_mean(tf.square(Y_pred -Y))\n",
        "optm = tf.train.AdamOptimizer(learning_rate).minimize(loss)\n",
        "\n",
        "# RMSE   (Root mean square error)\n",
        "targets = tf.placeholder(tf.float32, [None, 1])\n",
        "predictions = tf.placeholder(tf.float32, [None, 1])\n",
        "rmse = tf.sqrt(tf.reduce_mean(tf.square(targets-predictions)))\n",
        "print (\"Model Defined\")"
      ],
      "execution_count": 12,
      "outputs": [
        {
          "output_type": "stream",
          "text": [
            "Model Defined\n"
          ],
          "name": "stdout"
        }
      ]
    },
    {
      "metadata": {
        "id": "mdyEgYssweV3",
        "colab_type": "text"
      },
      "cell_type": "markdown",
      "source": [
        "### Now, Run"
      ]
    },
    {
      "metadata": {
        "id": "0GRRoGMY5bFV",
        "colab_type": "code",
        "colab": {
          "base_uri": "https://localhost:8080/",
          "height": 119
        },
        "outputId": "3a0cd070-59dc-463e-bead-1ac4f37ed163"
      },
      "cell_type": "code",
      "source": [
        "config = tf.ConfigProto()\n",
        "config.gpu_options.allow_growth = True\n",
        "sess = tf.Session (config = config)\n",
        "init = tf.global_variables_initializer()\n",
        "sess.run(init)\n",
        "\n",
        "# Train\n",
        "losses = []\n",
        "for i in range (iterations):\n",
        "  _, lossval = sess.run([optm,loss], feed_dict = {X: trainX, Y: trainY})\n",
        "  losses.append(lossval)\n",
        "  if i % 100 ==0:\n",
        "    print (\"[%d/%d] lossval: %.4f\" % (i+1, iterations, lossval))\n",
        "\n",
        "print (\"Optimization Done\")"
      ],
      "execution_count": 15,
      "outputs": [
        {
          "output_type": "stream",
          "text": [
            "[1/500] lossval: 0.0578\n",
            "[101/500] lossval: 0.0014\n",
            "[201/500] lossval: 0.0013\n",
            "[301/500] lossval: 0.0011\n",
            "[401/500] lossval: 0.0010\n",
            "Optimization Done\n"
          ],
          "name": "stdout"
        }
      ]
    },
    {
      "metadata": {
        "id": "MmBvMtcm5bCM",
        "colab_type": "text"
      },
      "cell_type": "markdown",
      "source": [
        "### Plot Loss"
      ]
    },
    {
      "metadata": {
        "id": "lrzXRoJS5bAG",
        "colab_type": "code",
        "colab": {
          "base_uri": "https://localhost:8080/",
          "height": 243
        },
        "outputId": "a037da0c-5bed-4f0e-9167-8f0c066b0178"
      },
      "cell_type": "code",
      "source": [
        "losslist = [_lossval for _lossval in losses]\n",
        "plt.figure (figsize = (6,3))\n",
        "plt.plot(losslist, label = 'With BN')\n",
        "plt.title(\"Loss\")"
      ],
      "execution_count": 16,
      "outputs": [
        {
          "output_type": "execute_result",
          "data": {
            "text/plain": [
              "Text(0.5,1,'Loss')"
            ]
          },
          "metadata": {
            "tags": []
          },
          "execution_count": 16
        },
        {
          "output_type": "display_data",
          "data": {
            "image/png": "[encoded data removed]",
            "text/plain": [
              "<matplotlib.figure.Figure at 0x7fb7e581bd68>"
            ]
          },
          "metadata": {
            "tags": []
          }
        }
      ]
    },
    {
      "metadata": {
        "id": "q5JATcCs5a97",
        "colab_type": "text"
      },
      "cell_type": "markdown",
      "source": [
        "### Now, Test"
      ]
    },
    {
      "metadata": {
        "id": "CSvw_D0J5a7s",
        "colab_type": "code",
        "colab": {
          "base_uri": "https://localhost:8080/",
          "height": 102
        },
        "outputId": "9c22f425-10e8-4b1a-8146-b5ef3df49ff2"
      },
      "cell_type": "code",
      "source": [
        "test_predict = sess.run(Y_pred, feed_dict = {X: testX})\n",
        "rmse = sess.run(rmse, feed_dict = {targets: testY, predictions: test_predict})\n",
        "print_np('testX',testX)\n",
        "print_np(\"test_predict\", test_predict)\n",
        "print (\"RMSE: {}\".format(rmse))"
      ],
      "execution_count": 17,
      "outputs": [
        {
          "output_type": "stream",
          "text": [
            "Type of [testX] is [<class 'numpy.ndarray'>]\n",
            "Shape of [testX] is (218, 7, 5)\n",
            "Type of [test_predict] is [<class 'numpy.ndarray'>]\n",
            "Shape of [test_predict] is (218, 1)\n",
            "RMSE: 0.02672998607158661\n"
          ],
          "name": "stdout"
        }
      ]
    },
    {
      "metadata": {
        "id": "_0OWVJsx5a5m",
        "colab_type": "text"
      },
      "cell_type": "markdown",
      "source": [
        "### Plot Predictions\n"
      ]
    },
    {
      "metadata": {
        "id": "XycF0nlB7Hyk",
        "colab_type": "code",
        "colab": {
          "base_uri": "https://localhost:8080/",
          "height": 279
        },
        "outputId": "5fcb20b9-61a7-459b-a42b-b8595d4877e3"
      },
      "cell_type": "code",
      "source": [
        "\n",
        "plt.plot(testY)\n",
        "plt.plot(test_predict)\n",
        "plt.xlabel(\"Time Period\")\n",
        "plt.ylabel(\"Stock Price\")\n",
        "plt.show()"
      ],
      "execution_count": 18,
      "outputs": [
        {
          "output_type": "display_data",
          "data": {
            "image/png": "[encoded data removed]",
            "text/plain": [
              "<matplotlib.figure.Figure at 0x7fb7cfffba58>"
            ]
          },
          "metadata": {
            "tags": []
          }
        }
      ]
    },
    {
      "metadata": {
        "id": "0jyHHzaV7G3-",
        "colab_type": "code",
        "colab": {}
      },
      "cell_type": "code",
      "source": [
        ""
      ],
      "execution_count": 0,
      "outputs": []
    },
    {
      "metadata": {
        "id": "nrPA06e15a3a",
        "colab_type": "code",
        "colab": {}
      },
      "cell_type": "code",
      "source": [
        ""
      ],
      "execution_count": 0,
      "outputs": []
    },
    {
      "metadata": {
        "id": "T9Hc9Gbt5a0v",
        "colab_type": "code",
        "colab": {}
      },
      "cell_type": "code",
      "source": [
        ""
      ],
      "execution_count": 0,
      "outputs": []
    }
  ]
}