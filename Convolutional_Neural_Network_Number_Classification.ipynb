{
  "nbformat": 4,
  "nbformat_minor": 0,
  "metadata": {
    "colab": {
      "name": "Convolutional Neural Network - Number Classification.ipynb",
      "version": "0.3.2",
      "provenance": [],
      "toc_visible": true,
      "include_colab_link": true
    },
    "kernelspec": {
      "name": "python3",
      "display_name": "Python 3"
    },
    "accelerator": "GPU"
  },
  "cells": [
    {
      "cell_type": "markdown",
      "metadata": {
        "id": "view-in-github",
        "colab_type": "text"
      },
      "source": [
        "[View in Colaboratory](https://colab.research.google.com/github/sl2820/Deep_Learning_Study/blob/master/Convolutional_Neural_Network_Number_Classification.ipynb)"
      ]
    },
    {
      "metadata": {
        "id": "aOVE7oM6ZXyI",
        "colab_type": "text"
      },
      "cell_type": "markdown",
      "source": [
        "# CONVOLUTIONAL NEURAL NETWORK\n"
      ]
    },
    {
      "metadata": {
        "id": "h3COpZ7MZWSo",
        "colab_type": "code",
        "colab": {
          "base_uri": "https://localhost:8080/",
          "height": 51
        },
        "outputId": "2491a840-eac3-4577-8315-29d33b885c0e"
      },
      "cell_type": "code",
      "source": [
        "import tensorflow as tf\n",
        "import numpy as np\n",
        "import os\n",
        "import matplotlib.pyplot as plt\n",
        "from tensorflow.examples.tutorials.mnist import input_data\n",
        "% matplotlib inline\n",
        "print (\"Current TF Version [%s]\" % (tf.__version__))\n",
        "print (\"Package Loaded\")"
      ],
      "execution_count": 1,
      "outputs": [
        {
          "output_type": "stream",
          "text": [
            "Current TF Version [1.11.0-rc2]\n",
            "Package Loaded\n"
          ],
          "name": "stdout"
        }
      ]
    },
    {
      "metadata": {
        "id": "dOmI2rogZgmm",
        "colab_type": "text"
      },
      "cell_type": "markdown",
      "source": [
        "### Load MNIST"
      ]
    },
    {
      "metadata": {
        "id": "-lqrL9rBZfv8",
        "colab_type": "code",
        "colab": {
          "base_uri": "https://localhost:8080/",
          "height": 547
        },
        "outputId": "bdf239b3-4e4c-417e-8344-052d48e9353a"
      },
      "cell_type": "code",
      "source": [
        "mnist = input_data.read_data_sets(\"data/\", one_hot=True)\n",
        "trainimg = mnist.train.images\n",
        "trainlabel = mnist.train.labels\n",
        "testimg = mnist.test.images\n",
        "testlabel = mnist.test.labels\n",
        "print (\"MNIST Ready\")"
      ],
      "execution_count": 2,
      "outputs": [
        {
          "output_type": "stream",
          "text": [
            "WARNING:tensorflow:From <ipython-input-2-3544a98bbd5d>:1: read_data_sets (from tensorflow.contrib.learn.python.learn.datasets.mnist) is deprecated and will be removed in a future version.\n",
            "Instructions for updating:\n",
            "Please use alternatives such as official/mnist/dataset.py from tensorflow/models.\n",
            "WARNING:tensorflow:From /usr/local/lib/python3.6/dist-packages/tensorflow/contrib/learn/python/learn/datasets/mnist.py:260: maybe_download (from tensorflow.contrib.learn.python.learn.datasets.base) is deprecated and will be removed in a future version.\n",
            "Instructions for updating:\n",
            "Please write your own downloading logic.\n",
            "WARNING:tensorflow:From /usr/local/lib/python3.6/dist-packages/tensorflow/contrib/learn/python/learn/datasets/base.py:252: _internal_retry.<locals>.wrap.<locals>.wrapped_fn (from tensorflow.contrib.learn.python.learn.datasets.base) is deprecated and will be removed in a future version.\n",
            "Instructions for updating:\n",
            "Please use urllib or similar directly.\n",
            "Successfully downloaded train-images-idx3-ubyte.gz 9912422 bytes.\n",
            "WARNING:tensorflow:From /usr/local/lib/python3.6/dist-packages/tensorflow/contrib/learn/python/learn/datasets/mnist.py:262: extract_images (from tensorflow.contrib.learn.python.learn.datasets.mnist) is deprecated and will be removed in a future version.\n",
            "Instructions for updating:\n",
            "Please use tf.data to implement this functionality.\n",
            "Extracting data/train-images-idx3-ubyte.gz\n",
            "Successfully downloaded train-labels-idx1-ubyte.gz 28881 bytes.\n",
            "WARNING:tensorflow:From /usr/local/lib/python3.6/dist-packages/tensorflow/contrib/learn/python/learn/datasets/mnist.py:267: extract_labels (from tensorflow.contrib.learn.python.learn.datasets.mnist) is deprecated and will be removed in a future version.\n",
            "Instructions for updating:\n",
            "Please use tf.data to implement this functionality.\n",
            "Extracting data/train-labels-idx1-ubyte.gz\n",
            "WARNING:tensorflow:From /usr/local/lib/python3.6/dist-packages/tensorflow/contrib/learn/python/learn/datasets/mnist.py:110: dense_to_one_hot (from tensorflow.contrib.learn.python.learn.datasets.mnist) is deprecated and will be removed in a future version.\n",
            "Instructions for updating:\n",
            "Please use tf.one_hot on tensors.\n",
            "Successfully downloaded t10k-images-idx3-ubyte.gz 1648877 bytes.\n",
            "Extracting data/t10k-images-idx3-ubyte.gz\n",
            "Successfully downloaded t10k-labels-idx1-ubyte.gz 4542 bytes.\n",
            "Extracting data/t10k-labels-idx1-ubyte.gz\n",
            "WARNING:tensorflow:From /usr/local/lib/python3.6/dist-packages/tensorflow/contrib/learn/python/learn/datasets/mnist.py:290: DataSet.__init__ (from tensorflow.contrib.learn.python.learn.datasets.mnist) is deprecated and will be removed in a future version.\n",
            "Instructions for updating:\n",
            "Please use alternatives such as official/mnist/dataset.py from tensorflow/models.\n",
            "MNIST Ready\n"
          ],
          "name": "stdout"
        }
      ]
    },
    {
      "metadata": {
        "id": "sMc3Z1OMZkV5",
        "colab_type": "text"
      },
      "cell_type": "markdown",
      "source": [
        "### Define Model"
      ]
    },
    {
      "metadata": {
        "id": "VGrEsslHZbhF",
        "colab_type": "code",
        "colab": {
          "base_uri": "https://localhost:8080/",
          "height": 34
        },
        "outputId": "19bdcf48-dafb-4484-f89e-24d6f485f7a8"
      },
      "cell_type": "code",
      "source": [
        "# Network Topologies\n",
        "n_input = 784 # 28 x 28 images\n",
        "n_channel = 64 # Number of Convolution Filter\n",
        "n_classes = 10  # Number of categories --> for us, 0 to 9\n",
        "\n",
        "# Inputs and Outputs\n",
        "x = tf.placeholder(\"float\", [None, n_input])   # ? x 784\n",
        "y = tf.placeholder(\"float\", [None, n_classes])  # ? x 10\n",
        "\n",
        "# Network Parameters --> Convolution 2 layer + Dense Layer 1\n",
        "stddev = 0.1\n",
        "weights = {\n",
        "    'c1': tf.Variable(tf.random_normal([3,3,1, n_channel], stddev=stddev)),\n",
        "    'c2': tf.Variable(tf.random_normal([3,3,n_channel, 128], stddev=stddev)),\n",
        "    'd1': tf.Variable(tf.random_normal([7*7*128, n_classes], stddev=stddev))\n",
        "}\n",
        "biases = {\n",
        "    'c1': tf.Variable(tf.random_normal([n_channel], stddev=stddev)),\n",
        "    'c2': tf.Variable(tf.random_normal([128], stddev=stddev)),\n",
        "    'd1': tf.Variable(tf.random_normal([n_classes], stddev=stddev))\n",
        "}\n",
        "\n",
        "print (\"NETWORK READY\")"
      ],
      "execution_count": 3,
      "outputs": [
        {
          "output_type": "stream",
          "text": [
            "NETWORK READY\n"
          ],
          "name": "stdout"
        }
      ]
    },
    {
      "metadata": {
        "id": "ixyCFy9xZnh7",
        "colab_type": "text"
      },
      "cell_type": "markdown",
      "source": [
        "### Define Graph"
      ]
    },
    {
      "metadata": {
        "id": "PRin2seFZ3dH",
        "colab_type": "code",
        "colab": {
          "base_uri": "https://localhost:8080/",
          "height": 190
        },
        "outputId": "37bde33f-4fe0-4e10-c0e3-9eb6e0a3ad67"
      },
      "cell_type": "code",
      "source": [
        "# Model\n",
        "def CNN (_x, _w, _b):\n",
        "    # Reshape\n",
        "    _x_r = tf.reshape(_x, shape = [-1, 28, 28, 1])\n",
        "    # Convolution\n",
        "    _conv1 = tf.nn.conv2d (_x_r, _w['c1'], strides=[1,1,1,1], padding='SAME')\n",
        "    # Add Bias\n",
        "    _conv2 = tf.nn.bias_add(_conv1, _b['c1'])\n",
        "    # ReLU\n",
        "    _conv3 = tf.nn.relu(_conv2)\n",
        "    # Max-Pooling\n",
        "    _pool = tf.nn.max_pool(_conv3, ksize=[1,2,2,1], strides=[1,2,2,1], padding = 'SAME')\n",
        "    \n",
        "    # Second Conv Layer\n",
        "    _temp = tf.nn.conv2d(_pool, _w['c2'], strides=[1,1,1,1], padding = 'SAME')\n",
        "    _temp = tf.nn.bias_add(_temp, _b['c2'])\n",
        "    _temp = tf.nn.relu(_temp)\n",
        "    _temp = tf.nn.max_pool(_temp, ksize=[1,2,2,1], strides=[1,2,2,1], padding = 'SAME')\n",
        "    \n",
        "    # Vectorize --> 한줄로 펴기\n",
        "    _dense = tf.reshape(_temp, [-1,_w['d1'].get_shape().as_list()[0]])\n",
        "    \n",
        "    # Dense\n",
        "    _logit = tf.add(tf.matmul(_dense, _w['d1']), _b['d1'])\n",
        "    _out = {\n",
        "        'x_r': _x_r, \n",
        "        'conv1': _conv1, \n",
        "        'conv2': _conv2, \n",
        "        'conv3': _conv3,\n",
        "        'pool': _pool, \n",
        "        'dense': _dense, \n",
        "        'logit': _logit\n",
        "    }\n",
        "    return _out\n",
        "\n",
        "# Prediction\n",
        "cnnout = CNN(x, weights, biases)\n",
        "\n",
        "# Loss and Optimizer\n",
        "cost = tf.reduce_mean(tf.nn.softmax_cross_entropy_with_logits(labels=y, logits=cnnout['logit']))\n",
        "optm = tf.train.AdamOptimizer(learning_rate=0.001).minimize(cost)\n",
        "corr = tf.equal(tf.argmax(cnnout['logit'],1), tf.argmax(y,1))\n",
        "accr = tf.reduce_mean(tf.cast(corr, 'float'))\n",
        "\n",
        "#Initializer\n",
        "init = tf.global_variables_initializer()\n",
        "print (\"Functions Ready\")"
      ],
      "execution_count": 4,
      "outputs": [
        {
          "output_type": "stream",
          "text": [
            "WARNING:tensorflow:From <ipython-input-4-75142ca437aa>:39: softmax_cross_entropy_with_logits (from tensorflow.python.ops.nn_ops) is deprecated and will be removed in a future version.\n",
            "Instructions for updating:\n",
            "\n",
            "Future major versions of TensorFlow will allow gradients to flow\n",
            "into the labels input on backprop by default.\n",
            "\n",
            "See `tf.nn.softmax_cross_entropy_with_logits_v2`.\n",
            "\n",
            "Functions Ready\n"
          ],
          "name": "stdout"
        }
      ]
    },
    {
      "metadata": {
        "id": "1f5mXecTZcCg",
        "colab_type": "text"
      },
      "cell_type": "markdown",
      "source": [
        "### Saver"
      ]
    },
    {
      "metadata": {
        "id": "dkPvTBMoZ7PM",
        "colab_type": "code",
        "colab": {
          "base_uri": "https://localhost:8080/",
          "height": 34
        },
        "outputId": "28dd1e75-f77e-492e-9d79-56970075e8f6"
      },
      "cell_type": "code",
      "source": [
        "savedir = \"practice_nets/cnn_mnist_simple/\"\n",
        "saver = tf.train.Saver(max_to_keep=10)\n",
        "save_step = 1\n",
        "if not os.path.exists(savedir):\n",
        "    os.makedirs(savedir)\n",
        "print (\"Saver Ready\")"
      ],
      "execution_count": 5,
      "outputs": [
        {
          "output_type": "stream",
          "text": [
            "Saver Ready\n"
          ],
          "name": "stdout"
        }
      ]
    },
    {
      "metadata": {
        "id": "cYuSQNgDZ-Qg",
        "colab_type": "text"
      },
      "cell_type": "markdown",
      "source": [
        "### Runnn"
      ]
    },
    {
      "metadata": {
        "id": "ujC0gVWmZ-Dy",
        "colab_type": "code",
        "colab": {
          "base_uri": "https://localhost:8080/",
          "height": 459
        },
        "outputId": "16b854e3-ba17-4cf3-f3b6-0a7071c497e6"
      },
      "cell_type": "code",
      "source": [
        "# Parameters\n",
        "training_epochs = 10\n",
        "batch_size = 100\n",
        "display_step = 2\n",
        "\n",
        "# Launch the Graph\n",
        "sess = tf.Session()\n",
        "sess.run(init)\n",
        "\n",
        "# Optimize\n",
        "for epoch in range (training_epochs):\n",
        "    avg_cost = 0\n",
        "    total_batch = int (mnist.train.num_examples/batch_size)\n",
        "    # iteration\n",
        "    for i in range (total_batch):\n",
        "        batch_x, batch_y, = mnist.train.next_batch(batch_size)\n",
        "        feeds = {x: batch_x, y: batch_y}\n",
        "        sess.run(optm, feed_dict = feeds)\n",
        "        avg_cost+=sess.run(cost, feed_dict=feeds)\n",
        "    avg_cost = avg_cost / total_batch\n",
        "\n",
        "    # Display\n",
        "    if (epoch+1) % display_step == 0:\n",
        "        print (\"Epoch : %03d/%03d Cost : %.9f\" % (epoch+1, training_epochs, avg_cost))\n",
        "        feeds = {x: batch_x, y: batch_y}\n",
        "        train_acc = sess.run(accr, feed_dict=feeds)\n",
        "        print (\"TRAIN ACCURACY : %.3f\" % (train_acc))\n",
        "        feeds = {x: mnist.test.images[:100, :], y: mnist.test.labels[:100, :]}\n",
        "        test_acc = sess.run(accr, feed_dict=feeds)\n",
        "        print (\"TEST ACCURACY: %.3f\" % (test_acc))\n",
        "    # SAVE\n",
        "    if (epoch+1) % save_step == 0:\n",
        "        savename = savedir+\"net-\"+str(epoch+1)+\".ckpt\"\n",
        "        saver.save(sess, savename)\n",
        "        print (\"[%s] SAVED\" % (savename))\n",
        "\n",
        "print (\"OPTIMIZATION FINISHED\")"
      ],
      "execution_count": 6,
      "outputs": [
        {
          "output_type": "stream",
          "text": [
            "[practice_nets/cnn_mnist_simple/net-1.ckpt] SAVED\n",
            "Epoch : 002/010 Cost : 0.050493768\n",
            "TRAIN ACCURACY : 0.990\n",
            "TEST ACCURACY: 0.990\n",
            "[practice_nets/cnn_mnist_simple/net-2.ckpt] SAVED\n",
            "[practice_nets/cnn_mnist_simple/net-3.ckpt] SAVED\n",
            "Epoch : 004/010 Cost : 0.025766146\n",
            "TRAIN ACCURACY : 0.990\n",
            "TEST ACCURACY: 1.000\n",
            "[practice_nets/cnn_mnist_simple/net-4.ckpt] SAVED\n",
            "[practice_nets/cnn_mnist_simple/net-5.ckpt] SAVED\n",
            "Epoch : 006/010 Cost : 0.014624618\n",
            "TRAIN ACCURACY : 1.000\n",
            "TEST ACCURACY: 0.980\n",
            "[practice_nets/cnn_mnist_simple/net-6.ckpt] SAVED\n",
            "[practice_nets/cnn_mnist_simple/net-7.ckpt] SAVED\n",
            "Epoch : 008/010 Cost : 0.008705856\n",
            "TRAIN ACCURACY : 1.000\n",
            "TEST ACCURACY: 0.980\n",
            "[practice_nets/cnn_mnist_simple/net-8.ckpt] SAVED\n",
            "[practice_nets/cnn_mnist_simple/net-9.ckpt] SAVED\n",
            "Epoch : 010/010 Cost : 0.004944209\n",
            "TRAIN ACCURACY : 1.000\n",
            "TEST ACCURACY: 0.970\n",
            "[practice_nets/cnn_mnist_simple/net-10.ckpt] SAVED\n",
            "OPTIMIZATION FINISHED\n"
          ],
          "name": "stdout"
        }
      ]
    },
    {
      "metadata": {
        "id": "492GFoE-Z96G",
        "colab_type": "text"
      },
      "cell_type": "markdown",
      "source": [
        "### Restore"
      ]
    },
    {
      "metadata": {
        "id": "nqckR7S_Z9ZE",
        "colab_type": "code",
        "colab": {
          "base_uri": "https://localhost:8080/",
          "height": 51
        },
        "outputId": "b6e2a4e6-157f-4ead-83ca-3d7bb840a77f"
      },
      "cell_type": "code",
      "source": [
        "do_restore = 1\n",
        "if do_restore == 1:\n",
        "    sess = tf.Session()\n",
        "    epoch = 10\n",
        "    savename = savedir+'net-'+str(epoch)+'.ckpt'\n",
        "    saver.restore(sess, savename)\n",
        "    print (\"Network Restored\")\n",
        "else:\n",
        "    print (\"Do nothing\")"
      ],
      "execution_count": 7,
      "outputs": [
        {
          "output_type": "stream",
          "text": [
            "INFO:tensorflow:Restoring parameters from practice_nets/cnn_mnist_simple/net-10.ckpt\n",
            "Network Restored\n"
          ],
          "name": "stdout"
        }
      ]
    },
    {
      "metadata": {
        "id": "ORydDLR1aUhE",
        "colab_type": "text"
      },
      "cell_type": "markdown",
      "source": [
        "### Let's See How CNN Works"
      ]
    },
    {
      "metadata": {
        "id": "RtkFWSA2aUPI",
        "colab_type": "code",
        "colab": {}
      },
      "cell_type": "code",
      "source": [
        "input_r = sess.run(cnnout['x_r'], feed_dict = {x: trainimg[0:1, :]})\n",
        "conv1 = sess.run(cnnout['conv1'],feed_dict={x: trainimg[0:1, :]})\n",
        "conv2 = sess.run(cnnout['conv2'],feed_dict={x: trainimg[0:1, :]})\n",
        "conv3n = sess.run(cnnout['conv3'],feed_dict={x: trainimg[0:1, :]})\n",
        "pool = sess.run(cnnout['pool'],feed_dict={x: trainimg[0:1, :]})\n",
        "dense = sess.run(cnnout['dense'],feed_dict={x: trainimg[0:1, :]})\n",
        "out = sess.run(cnnout['logit'],feed_dict={x: trainimg[0:1, :]})\n",
        "\n",
        "\n"
      ],
      "execution_count": 0,
      "outputs": []
    },
    {
      "metadata": {
        "id": "Z2aqX_FrgcKd",
        "colab_type": "text"
      },
      "cell_type": "markdown",
      "source": [
        "### Input"
      ]
    },
    {
      "metadata": {
        "id": "HUafIz7agb7N",
        "colab_type": "code",
        "colab": {
          "base_uri": "https://localhost:8080/",
          "height": 296
        },
        "outputId": "164d1287-1fd2-44d2-9246-1a1148e16212"
      },
      "cell_type": "code",
      "source": [
        "print (\"Size of 'input_r' is %s\" % (input_r.shape,))\n",
        "label = np.argmax(trainlabel[0,:])\n",
        "print (\"Label is %d\" % (label))\n",
        "\n",
        "#Plot\n",
        "plt.matshow(input_r[0,:,:,0], cmap=plt.get_cmap('gray'))\n",
        "plt.title(\"Label of this image is \" + str(label)+\"\")\n",
        "plt.colorbar()\n",
        "plt.show()"
      ],
      "execution_count": 9,
      "outputs": [
        {
          "output_type": "stream",
          "text": [
            "Size of 'input_r' is (1, 28, 28, 1)\n",
            "Label is 7\n"
          ],
          "name": "stdout"
        },
        {
          "output_type": "display_data",
          "data": {
            "image/png": "[encoded data removed]",
            "text/plain": [
              "<matplotlib.figure.Figure at 0x7f6073d62470>"
            ]
          },
          "metadata": {
            "tags": []
          }
        }
      ]
    },
    {
      "metadata": {
        "id": "AVMKLKbYhqnu",
        "colab_type": "text"
      },
      "cell_type": "markdown",
      "source": [
        "### Conv Steps"
      ]
    },
    {
      "metadata": {
        "id": "LcXqM-tnhGaP",
        "colab_type": "code",
        "colab": {
          "base_uri": "https://localhost:8080/",
          "height": 753
        },
        "outputId": "c6d905c3-aa29-4a3a-9f54-be9a398acf14"
      },
      "cell_type": "code",
      "source": [
        "print (\"Size of 'Conv1' is %s\" % (conv1.shape,))\n",
        "for i in range (3):\n",
        "    plt.matshow(conv1[0,:,:,i], cmap=plt.get_cmap('gray'))\n",
        "    plt.title(str(i) + 'th Conv1')\n",
        "    plt.colorbar()\n",
        "    plt.show()"
      ],
      "execution_count": 10,
      "outputs": [
        {
          "output_type": "stream",
          "text": [
            "Size of 'Conv1' is (1, 28, 28, 64)\n"
          ],
          "name": "stdout"
        },
        {
          "output_type": "display_data",
          "data": {
            "image/png": "[encoded data removed]",
            "text/plain": [
              "<matplotlib.figure.Figure at 0x7f60c21c09b0>"
            ]
          },
          "metadata": {
            "tags": []
          }
        },
        {
          "output_type": "display_data",
          "data": {
            "image/png": "[encoded data removed]",
            "text/plain": [
              "<matplotlib.figure.Figure at 0x7f602ca76f28>"
            ]
          },
          "metadata": {
            "tags": []
          }
        },
        {
          "output_type": "display_data",
          "data": {
            "image/png": "[encoded data removed]",
            "text/plain": [
              "<matplotlib.figure.Figure at 0x7f602c9f5898>"
            ]
          },
          "metadata": {
            "tags": []
          }
        }
      ]
    },
    {
      "metadata": {
        "id": "ELlo-NqWiF8o",
        "colab_type": "text"
      },
      "cell_type": "markdown",
      "source": [
        "### Conv + Bias (Conv2)"
      ]
    },
    {
      "metadata": {
        "id": "-T6xcB7ZiFsK",
        "colab_type": "code",
        "colab": {
          "base_uri": "https://localhost:8080/",
          "height": 755
        },
        "outputId": "835a6a5a-c7c4-441d-946c-564f62e844a3"
      },
      "cell_type": "code",
      "source": [
        "print (\"Size of 'Conv2' is %s\" % (conv2.shape,))   # Conv2 is bias added one\n",
        "for i in range (3):\n",
        "    plt.matshow(conv2[0,:,:,i], cmap=plt.get_cmap('gray'))\n",
        "    plt.title(str(i) + 'th Conv2')\n",
        "    plt.colorbar()\n",
        "    plt.show()"
      ],
      "execution_count": 11,
      "outputs": [
        {
          "output_type": "stream",
          "text": [
            "Size of 'Conv2' is (1, 28, 28, 64)\n"
          ],
          "name": "stdout"
        },
        {
          "output_type": "display_data",
          "data": {
            "image/png": "[encoded data removed]",
            "text/plain": [
              "<matplotlib.figure.Figure at 0x7f60c21c0390>"
            ]
          },
          "metadata": {
            "tags": []
          }
        },
        {
          "output_type": "display_data",
          "data": {
            "image/png": "[encoded data removed]",
            "text/plain": [
              "<matplotlib.figure.Figure at 0x7f602c88e128>"
            ]
          },
          "metadata": {
            "tags": []
          }
        },
        {
          "output_type": "display_data",
          "data": {
            "image/png": "[encoded data removed]",
            "text/plain": [
              "<matplotlib.figure.Figure at 0x7f602c7f0908>"
            ]
          },
          "metadata": {
            "tags": []
          }
        }
      ]
    },
    {
      "metadata": {
        "id": "inMsjxvHii6z",
        "colab_type": "text"
      },
      "cell_type": "markdown",
      "source": [
        "### Conv + Bias + ReLU -- Conv3"
      ]
    },
    {
      "metadata": {
        "id": "jxyOj6gYiiuR",
        "colab_type": "code",
        "colab": {
          "base_uri": "https://localhost:8080/",
          "height": 248
        },
        "outputId": "b7192509-aa24-47f2-92d7-3571b0e7cc3f"
      },
      "cell_type": "code",
      "source": [
        "print (\"Size of 'Conv3' is %s\" % (conv3n.shape,))\n",
        "for i in range (3):\n",
        "    plt.matshow(conv3[0,:,:,i], cmap=plt.get_cmap('gray'))\n",
        "    plt.title(str(i) + 'th Conv3')\n",
        "    plt.colorbar()\n",
        "    plt.show()"
      ],
      "execution_count": 12,
      "outputs": [
        {
          "output_type": "stream",
          "text": [
            "Size of 'Conv3' is (1, 28, 28, 64)\n"
          ],
          "name": "stdout"
        },
        {
          "output_type": "error",
          "ename": "NameError",
          "evalue": "ignored",
          "traceback": [
            "\u001b[0;31m---------------------------------------------------------------------------\u001b[0m",
            "\u001b[0;31mNameError\u001b[0m                                 Traceback (most recent call last)",
            "\u001b[0;32m<ipython-input-12-7d5eac91afb6>\u001b[0m in \u001b[0;36m<module>\u001b[0;34m()\u001b[0m\n\u001b[1;32m      1\u001b[0m \u001b[0mprint\u001b[0m \u001b[0;34m(\u001b[0m\u001b[0;34m\"Size of 'Conv3' is %s\"\u001b[0m \u001b[0;34m%\u001b[0m \u001b[0;34m(\u001b[0m\u001b[0mconv3n\u001b[0m\u001b[0;34m.\u001b[0m\u001b[0mshape\u001b[0m\u001b[0;34m,\u001b[0m\u001b[0;34m)\u001b[0m\u001b[0;34m)\u001b[0m\u001b[0;34m\u001b[0m\u001b[0m\n\u001b[1;32m      2\u001b[0m \u001b[0;32mfor\u001b[0m \u001b[0mi\u001b[0m \u001b[0;32min\u001b[0m \u001b[0mrange\u001b[0m \u001b[0;34m(\u001b[0m\u001b[0;36m3\u001b[0m\u001b[0;34m)\u001b[0m\u001b[0;34m:\u001b[0m\u001b[0;34m\u001b[0m\u001b[0m\n\u001b[0;32m----> 3\u001b[0;31m     \u001b[0mplt\u001b[0m\u001b[0;34m.\u001b[0m\u001b[0mmatshow\u001b[0m\u001b[0;34m(\u001b[0m\u001b[0mconv3\u001b[0m\u001b[0;34m[\u001b[0m\u001b[0;36m0\u001b[0m\u001b[0;34m,\u001b[0m\u001b[0;34m:\u001b[0m\u001b[0;34m,\u001b[0m\u001b[0;34m:\u001b[0m\u001b[0;34m,\u001b[0m\u001b[0mi\u001b[0m\u001b[0;34m]\u001b[0m\u001b[0;34m,\u001b[0m \u001b[0mcmap\u001b[0m\u001b[0;34m=\u001b[0m\u001b[0mplt\u001b[0m\u001b[0;34m.\u001b[0m\u001b[0mget_cmap\u001b[0m\u001b[0;34m(\u001b[0m\u001b[0;34m'gray'\u001b[0m\u001b[0;34m)\u001b[0m\u001b[0;34m)\u001b[0m\u001b[0;34m\u001b[0m\u001b[0m\n\u001b[0m\u001b[1;32m      4\u001b[0m     \u001b[0mplt\u001b[0m\u001b[0;34m.\u001b[0m\u001b[0mtitle\u001b[0m\u001b[0;34m(\u001b[0m\u001b[0mstr\u001b[0m\u001b[0;34m(\u001b[0m\u001b[0mi\u001b[0m\u001b[0;34m)\u001b[0m \u001b[0;34m+\u001b[0m \u001b[0;34m'th Conv3'\u001b[0m\u001b[0;34m)\u001b[0m\u001b[0;34m\u001b[0m\u001b[0m\n\u001b[1;32m      5\u001b[0m     \u001b[0mplt\u001b[0m\u001b[0;34m.\u001b[0m\u001b[0mcolorbar\u001b[0m\u001b[0;34m(\u001b[0m\u001b[0;34m)\u001b[0m\u001b[0;34m\u001b[0m\u001b[0m\n",
            "\u001b[0;31mNameError\u001b[0m: name 'conv3' is not defined"
          ]
        }
      ]
    },
    {
      "metadata": {
        "id": "NBubU_FGiin9",
        "colab_type": "text"
      },
      "cell_type": "markdown",
      "source": [
        "### Pool"
      ]
    },
    {
      "metadata": {
        "id": "-8ls1qv6iic1",
        "colab_type": "code",
        "colab": {
          "base_uri": "https://localhost:8080/",
          "height": 769
        },
        "outputId": "d9099b8a-080f-45d2-fd81-d0f276f596d0"
      },
      "cell_type": "code",
      "source": [
        "print (\"Size of 'Conv1' is %s\" % (pool.shape,))\n",
        "for i in range (3):\n",
        "    plt.matshow(pool[0,:,:,i], cmap=plt.get_cmap('gray'))\n",
        "    plt.title(str(i) + 'th Pool')\n",
        "    plt.colorbar()\n",
        "    plt.show()"
      ],
      "execution_count": 13,
      "outputs": [
        {
          "output_type": "stream",
          "text": [
            "Size of 'Conv1' is (1, 14, 14, 64)\n"
          ],
          "name": "stdout"
        },
        {
          "output_type": "display_data",
          "data": {
            "image/png": "[encoded data removed]",
            "text/plain": [
              "<matplotlib.figure.Figure at 0x7f602c7645c0>"
            ]
          },
          "metadata": {
            "tags": []
          }
        },
        {
          "output_type": "display_data",
          "data": {
            "image/png": "[encoded data removed]",
            "text/plain": [
              "<matplotlib.figure.Figure at 0x7f602c6897b8>"
            ]
          },
          "metadata": {
            "tags": []
          }
        },
        {
          "output_type": "display_data",
          "data": {
            "image/png": "[encoded data removed]",
            "text/plain": [
              "<matplotlib.figure.Figure at 0x7f602c8339e8>"
            ]
          },
          "metadata": {
            "tags": []
          }
        }
      ]
    },
    {
      "metadata": {
        "id": "l5AUrcUxiiUo",
        "colab_type": "text"
      },
      "cell_type": "markdown",
      "source": [
        "### Dense"
      ]
    },
    {
      "metadata": {
        "id": "KL7RzokciiM2",
        "colab_type": "code",
        "colab": {
          "base_uri": "https://localhost:8080/",
          "height": 178
        },
        "outputId": "c02c5a05-f0b4-4b79-dce7-0113805f70f2"
      },
      "cell_type": "code",
      "source": [
        "print (\"Size of 'Dense' is %s\" % (dense.shape,))\n",
        "print (\"Size of 'Out' is %s\" % (out.shape,))\n",
        "plt.matshow(out, cmap=plt.get_cmap('gray'))\n",
        "plt.title('Out')\n",
        "plt.colorbar()\n",
        "plt.show()"
      ],
      "execution_count": 14,
      "outputs": [
        {
          "output_type": "stream",
          "text": [
            "Size of 'Dense' is (1, 6272)\n",
            "Size of 'Out' is (1, 10)\n"
          ],
          "name": "stdout"
        },
        {
          "output_type": "display_data",
          "data": {
            "image/png": "[encoded data removed]",
            "text/plain": [
              "<matplotlib.figure.Figure at 0x7f602c788b00>"
            ]
          },
          "metadata": {
            "tags": []
          }
        }
      ]
    },
    {
      "metadata": {
        "id": "xq947gYViiA4",
        "colab_type": "text"
      },
      "cell_type": "markdown",
      "source": [
        "### Convolutional Filter"
      ]
    },
    {
      "metadata": {
        "id": "9wu-fPUmhscH",
        "colab_type": "code",
        "colab": {
          "base_uri": "https://localhost:8080/",
          "height": 751
        },
        "outputId": "caab0585-efb8-4f79-e7d5-b5b7cca34c6e"
      },
      "cell_type": "code",
      "source": [
        "wc1 = sess.run(weights['c1'])\n",
        "print (\"Size of 'WC1' is %s\" % (wc1.shape,))\n",
        "\n",
        "for i in range (3):\n",
        "    plt.matshow(wc1[:,:,0,i], cmap=plt.get_cmap('gray'))\n",
        "    plt.title(str(i) + 'th conv filter')\n",
        "    plt.colorbar()\n",
        "    plt.show()"
      ],
      "execution_count": 15,
      "outputs": [
        {
          "output_type": "stream",
          "text": [
            "Size of 'WC1' is (3, 3, 1, 64)\n"
          ],
          "name": "stdout"
        },
        {
          "output_type": "display_data",
          "data": {
            "image/png": "[encoded data removed]",
            "text/plain": [
              "<matplotlib.figure.Figure at 0x7f602c7646a0>"
            ]
          },
          "metadata": {
            "tags": []
          }
        },
        {
          "output_type": "display_data",
          "data": {
            "image/png": "[encoded data removed]",
            "text/plain": [
              "<matplotlib.figure.Figure at 0x7f603ac43320>"
            ]
          },
          "metadata": {
            "tags": []
          }
        },
        {
          "output_type": "display_data",
          "data": {
            "image/png": "[encoded data removed]",
            "text/plain": [
              "<matplotlib.figure.Figure at 0x7f602c85e080>"
            ]
          },
          "metadata": {
            "tags": []
          }
        }
      ]
    },
    {
      "metadata": {
        "id": "p8wf68sNmigq",
        "colab_type": "code",
        "colab": {}
      },
      "cell_type": "code",
      "source": [
        ""
      ],
      "execution_count": 0,
      "outputs": []
    }
  ]
}