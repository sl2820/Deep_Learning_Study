{
  "nbformat": 4,
  "nbformat_minor": 0,
  "metadata": {
    "colab": {
      "name": "Character_RNN.ipynb",
      "version": "0.3.2",
      "provenance": [],
      "toc_visible": true,
      "include_colab_link": true
    },
    "kernelspec": {
      "name": "python3",
      "display_name": "Python 3"
    },
    "accelerator": "GPU"
  },
  "cells": [
    {
      "cell_type": "markdown",
      "metadata": {
        "id": "view-in-github",
        "colab_type": "text"
      },
      "source": [
        "[View in Colaboratory](https://colab.research.google.com/github/sl2820/Deep_Learning_Study/blob/master/Character_RNN.ipynb)"
      ]
    },
    {
      "metadata": {
        "id": "t-OC4jPR0GV_",
        "colab_type": "text"
      },
      "cell_type": "markdown",
      "source": [
        "# SIMPLE CHAR-RNN"
      ]
    },
    {
      "metadata": {
        "id": "msOfEeOz0OrU",
        "colab_type": "code",
        "colab": {
          "base_uri": "https://localhost:8080/",
          "height": 35
        },
        "outputId": "92d023b9-bd78-43d2-9ffa-3b2fba379a77"
      },
      "cell_type": "code",
      "source": [
        "from __future__ import print_function\n",
        "import tensorflow as tf\n",
        "import numpy as np\n",
        "from tensorflow.contrib import rnn\n",
        "tf.set_random_seed(0)\n",
        "print(\"Tensorflow Version is %s\" % (tf.__version__))"
      ],
      "execution_count": 2,
      "outputs": [
        {
          "output_type": "stream",
          "text": [
            "Tensorflow Version is 1.11.0\n"
          ],
          "name": "stdout"
        }
      ]
    },
    {
      "metadata": {
        "id": "8HuTUUim0Oo9",
        "colab_type": "text"
      },
      "cell_type": "markdown",
      "source": [
        "### Define Training Sequence"
      ]
    },
    {
      "metadata": {
        "id": "3F3KwlPy0Omq",
        "colab_type": "code",
        "colab": {
          "base_uri": "https://localhost:8080/",
          "height": 53
        },
        "outputId": "d24de79d-85d8-4d55-f0eb-b7a9d64d88c2"
      },
      "cell_type": "code",
      "source": [
        "quote1 = (\"If you want to build a ship, \"\n",
        "          \"Don't drum up people to collect wood and don't assign them tasks and work,\"\n",
        "          \" but rather teach them to long for the endless immensity of the sea.\"\n",
        "         )\n",
        "quote2 = (\"Perfection is achieved, \"\n",
        "           \"not when there is nothing more to add, \"\n",
        "           \"but when there is nothing left to take away.\"\n",
        ")\n",
        "sentence = quote2\n",
        "print(\"FOLLOWING IS OUR TRAINING SEQUENCE:\")\n",
        "print(sentence)\n"
      ],
      "execution_count": 5,
      "outputs": [
        {
          "output_type": "stream",
          "text": [
            "FOLLOWING IS OUR TRAINING SEQUENCE:\n",
            "Perfection is achieved, not when there is nothing more to add, but when there is nothing left to take away.\n"
          ],
          "name": "stdout"
        }
      ]
    },
    {
      "metadata": {
        "id": "5YTb8CPc0Oki",
        "colab_type": "text"
      },
      "cell_type": "markdown",
      "source": [
        "### Define Vocabulary and Dictionary"
      ]
    },
    {
      "metadata": {
        "id": "X4XH_8Ih0Oie",
        "colab_type": "code",
        "colab": {
          "base_uri": "https://localhost:8080/",
          "height": 109
        },
        "outputId": "672fe6c2-2ec6-435d-b464-cbb746095557"
      },
      "cell_type": "code",
      "source": [
        "char_set = list(set(sentence))\n",
        "char_dic = {w: i for i, w in enumerate(char_set)}\n",
        "print(\"Vocabulary: \")\n",
        "print(char_set)\n",
        "print(\"Dictionary: \")\n",
        "print(char_dic)"
      ],
      "execution_count": 7,
      "outputs": [
        {
          "output_type": "stream",
          "text": [
            "Vocabulary: \n",
            "['r', 'k', 'd', 'g', 'o', 'b', 'a', 'c', '.', 'l', 'm', 'y', 'u', 's', ' ', 'e', 'i', 't', ',', 'v', 'P', 'h', 'n', 'w', 'f']\n",
            "Dictionary: \n",
            "{'r': 0, 'k': 1, 'd': 2, 'g': 3, 'o': 4, 'b': 5, 'a': 6, 'c': 7, '.': 8, 'l': 9, 'm': 10, 'y': 11, 'u': 12, 's': 13, ' ': 14, 'e': 15, 'i': 16, 't': 17, ',': 18, 'v': 19, 'P': 20, 'h': 21, 'n': 22, 'w': 23, 'f': 24}\n"
          ],
          "name": "stdout"
        }
      ]
    },
    {
      "metadata": {
        "id": "fLA0aWhF0OgJ",
        "colab_type": "text"
      },
      "cell_type": "markdown",
      "source": [
        "Vocab: Number ==> Char / Dictionary: Char ==> Number\n",
        "\n",
        "(Change our chars into numberings so that it can be entered into RNN)"
      ]
    },
    {
      "metadata": {
        "id": "lB5WLXq10Od0",
        "colab_type": "text"
      },
      "cell_type": "markdown",
      "source": [
        "### Configure Network"
      ]
    },
    {
      "metadata": {
        "id": "mXx1Kek10Obp",
        "colab_type": "code",
        "colab": {
          "base_uri": "https://localhost:8080/",
          "height": 35
        },
        "outputId": "13df8ccc-2d1a-4751-fade-8f4d33abfb0a"
      },
      "cell_type": "code",
      "source": [
        "data_dim = len(char_set)\n",
        "num_classes = len(char_set)\n",
        "hidden_size = 64\n",
        "sequence_length = 10 # Can be any arbitrary number (gonna use first 10 sequences by cutting them according to this defined number)\n",
        "print(\"Data_Dim is [%d]\" %(data_dim))"
      ],
      "execution_count": 9,
      "outputs": [
        {
          "output_type": "stream",
          "text": [
            "Data_Dim is [25]\n"
          ],
          "name": "stdout"
        }
      ]
    },
    {
      "metadata": {
        "id": "t-P7yteE0OZg",
        "colab_type": "text"
      },
      "cell_type": "markdown",
      "source": [
        "### Set Training Batches"
      ]
    },
    {
      "metadata": {
        "id": "j6PBZ2rR0OXd",
        "colab_type": "code",
        "colab": {}
      },
      "cell_type": "code",
      "source": [
        "def print_np(_name,_x):\n",
        "  print(\"Type of [%s] is [%s]\" % (_name, type(_x)))\n",
        "  print(\"Shape of [%s] is %s\" % (_name, _x.shape,))\n",
        "\n",
        "def print_list(_name,_x):\n",
        "  print(\"Type of [%s] is [%s]\" % (_name, type(_x)))\n",
        "  print(\"Length of [%s] is %s\" % (_name, len(_x)))\n",
        "  print(\"%s[0] Looks like %s\" % (_name,_x[0]))\n"
      ],
      "execution_count": 0,
      "outputs": []
    },
    {
      "metadata": {
        "id": "92-N0V040OVN",
        "colab_type": "code",
        "colab": {
          "base_uri": "https://localhost:8080/",
          "height": 305
        },
        "outputId": "a30765f4-bd00-41a7-f068-dfb5fca235e0"
      },
      "cell_type": "code",
      "source": [
        "# Character's position is pushed backward by 1 \n",
        "dataX = []\n",
        "dataY = []\n",
        "for i in range(0, len(sentence) - sequence_length):\n",
        "  x_str = sentence[i:i+sequence_length]\n",
        "  y_str = sentence[i+1:i+sequence_length + 1] #pusing char position by 1 for output\n",
        "  x = [char_dic[c] for c in x_str]\n",
        "  y = [char_dic[c] for c in y_str]\n",
        "  dataX.append(x)\n",
        "  dataY.append(y)\n",
        "  if i < 5:\n",
        "    print(\"[%4d/%4d] [%s]=>[%s]\" % (i, len(sentence), x_str, y_str))\n",
        "    print(\"%s%s => %s \" %(' '*12, x,y))\n",
        "print_list('dataX',dataX)\n",
        "print_list('dataY',dataY)"
      ],
      "execution_count": 12,
      "outputs": [
        {
          "output_type": "stream",
          "text": [
            "[   0/ 107] [Perfection]=>[erfection ]\n",
            "            [20, 15, 0, 24, 15, 7, 17, 16, 4, 22] => [15, 0, 24, 15, 7, 17, 16, 4, 22, 14] \n",
            "[   1/ 107] [erfection ]=>[rfection i]\n",
            "            [15, 0, 24, 15, 7, 17, 16, 4, 22, 14] => [0, 24, 15, 7, 17, 16, 4, 22, 14, 16] \n",
            "[   2/ 107] [rfection i]=>[fection is]\n",
            "            [0, 24, 15, 7, 17, 16, 4, 22, 14, 16] => [24, 15, 7, 17, 16, 4, 22, 14, 16, 13] \n",
            "[   3/ 107] [fection is]=>[ection is ]\n",
            "            [24, 15, 7, 17, 16, 4, 22, 14, 16, 13] => [15, 7, 17, 16, 4, 22, 14, 16, 13, 14] \n",
            "[   4/ 107] [ection is ]=>[ction is a]\n",
            "            [15, 7, 17, 16, 4, 22, 14, 16, 13, 14] => [7, 17, 16, 4, 22, 14, 16, 13, 14, 6] \n",
            "Type of [dataX] is [<class 'list'>]\n",
            "Length of [dataX] is 97\n",
            "dataX[0] Looks like [20, 15, 0, 24, 15, 7, 17, 16, 4, 22]\n",
            "Type of [dataY] is [<class 'list'>]\n",
            "Length of [dataY] is 97\n",
            "dataY[0] Looks like [15, 0, 24, 15, 7, 17, 16, 4, 22, 14]\n"
          ],
          "name": "stdout"
        }
      ]
    },
    {
      "metadata": {
        "id": "yuFlf_Pb0OS2",
        "colab_type": "code",
        "colab": {
          "base_uri": "https://localhost:8080/",
          "height": 53
        },
        "outputId": "e8e6e69b-8b07-468e-a54f-c59671a6cdfc"
      },
      "cell_type": "code",
      "source": [
        "ndata = len(dataX)\n",
        "batch_size = 512\n",
        "print(\"      'ndata' is %d\" %(ndata))\n",
        "print(\"'Batch_size' is %d\" %(batch_size))"
      ],
      "execution_count": 13,
      "outputs": [
        {
          "output_type": "stream",
          "text": [
            "      'ndata' is 97\n",
            "'Batch_size' is 512\n"
          ],
          "name": "stdout"
        }
      ]
    },
    {
      "metadata": {
        "id": "r5-SH6cF0N_R",
        "colab_type": "text"
      },
      "cell_type": "markdown",
      "source": [
        "### Define Placeholders"
      ]
    },
    {
      "metadata": {
        "id": "ss4fBoqJ0N9C",
        "colab_type": "code",
        "colab": {
          "base_uri": "https://localhost:8080/",
          "height": 161
        },
        "outputId": "1d40c573-6a79-4128-b094-7d8d835f6dc0"
      },
      "cell_type": "code",
      "source": [
        "X = tf.placeholder(tf.int32, [None, sequence_length])\n",
        "X_OH = tf.one_hot(X, num_classes)\n",
        "Y = tf.placeholder(tf.int32, [None, sequence_length])\n",
        "print(\"'Sequence_length' is [%d]\" % (sequence_length))\n",
        "print(\"'num_classes' is [%d]\"% (num_classes))\n",
        "print(\"'X' Looks like \\n   [%s]\"%(X))\n",
        "print(\"'X_OH' Looks like \\n   [%s]\"%(X_OH))\n",
        "print(\"'Y' Looks like \\n   [%s]\" % (Y))"
      ],
      "execution_count": 14,
      "outputs": [
        {
          "output_type": "stream",
          "text": [
            "'Sequence_length' is [10]\n",
            "'num_classes' is [25]\n",
            "'X' Looks like \n",
            "   [Tensor(\"Placeholder:0\", shape=(?, 10), dtype=int32)]\n",
            "'X_OH' Looks like \n",
            "   [Tensor(\"one_hot:0\", shape=(?, 10, 25), dtype=float32)]\n",
            "'Y' Looks like \n",
            "   [Tensor(\"Placeholder_1:0\", shape=(?, 10), dtype=int32)]\n"
          ],
          "name": "stdout"
        }
      ]
    },
    {
      "metadata": {
        "id": "_zpS8__l9EUv",
        "colab_type": "code",
        "colab": {
          "base_uri": "https://localhost:8080/",
          "height": 161
        },
        "outputId": "0db4b6d9-4275-4329-baaf-d5a813b94d9b"
      },
      "cell_type": "code",
      "source": [
        "with tf.variable_scope('CHAR-RNN', reuse=False):\n",
        "  cell = rnn.BasicLSTMCell(hidden_size, state_is_tuple=True, reuse = False)\n",
        "  _hiddens = tf.contrib.layers.fully_connected(X_OH, hidden_size, activation_fn = tf.nn.relu)\n",
        "  _rnnouts, _states = tf.nn.dynamic_rnn(cell, _hiddens, dtype = tf.float32)\n",
        "  _denseouts = tf.contrib.layers.fully_connected(_rnnouts, num_classes, activation_fn=None)\n",
        "  outputs = tf.reshape(_denseouts, [batch_size, sequence_length, num_classes])\n",
        "  \n",
        "print(\"_hiddens LOOKS LIKE [%s]\" % (_hiddens))\n",
        "print(\"_rnnouts LOOKS LIKE [%s]\" % (_rnnouts))\n",
        "print(\"_denseouts LOOKS LIKE [%s]\" % (_denseouts))\n",
        "print(\"outputs LOOKS LIKE [%s]\" % (outputs))\n",
        "print(\"Model Defined\")"
      ],
      "execution_count": 15,
      "outputs": [
        {
          "output_type": "stream",
          "text": [
            "WARNING:tensorflow:From <ipython-input-15-f95a574c949b>:2: BasicLSTMCell.__init__ (from tensorflow.python.ops.rnn_cell_impl) is deprecated and will be removed in a future version.\n",
            "Instructions for updating:\n",
            "This class is deprecated, please use tf.nn.rnn_cell.LSTMCell, which supports all the feature this cell currently has. Please replace the existing code with tf.nn.rnn_cell.LSTMCell(name='basic_lstm_cell').\n",
            "_hiddens LOOKS LIKE [Tensor(\"CHAR-RNN/fully_connected/Relu:0\", shape=(?, 10, 64), dtype=float32)]\n",
            "_rnnouts LOOKS LIKE [Tensor(\"CHAR-RNN/rnn/transpose_1:0\", shape=(?, 10, 64), dtype=float32)]\n",
            "_denseouts LOOKS LIKE [Tensor(\"CHAR-RNN/fully_connected_1/BiasAdd:0\", shape=(?, 10, 25), dtype=float32)]\n",
            "outputs LOOKS LIKE [Tensor(\"CHAR-RNN/Reshape:0\", shape=(512, 10, 25), dtype=float32)]\n",
            "Model Defined\n"
          ],
          "name": "stdout"
        }
      ]
    },
    {
      "metadata": {
        "id": "Ak-Bqu-D9ESp",
        "colab_type": "text"
      },
      "cell_type": "markdown",
      "source": [
        "### Define TF Functions"
      ]
    },
    {
      "metadata": {
        "id": "kJAxtmBS9EQf",
        "colab_type": "code",
        "colab": {
          "base_uri": "https://localhost:8080/",
          "height": 71
        },
        "outputId": "68528f37-d150-4934-c9f9-276b52eb63b6"
      },
      "cell_type": "code",
      "source": [
        "weights = tf.ones([batch_size, sequence_length])\n",
        "seq_loss = tf.contrib.seq2seq.sequence_loss(logits=outputs, targets = Y, weights = weights)\n",
        "print(\"Weights LOOKS LIKE [%s]\" %(weights))\n",
        "print(\"outputs LOOKS LIKE [%s]\" %(outputs))\n",
        "print(\"Y LOOKS LIKE [%s]\" %(Y))"
      ],
      "execution_count": 17,
      "outputs": [
        {
          "output_type": "stream",
          "text": [
            "Weights LOOKS LIKE [Tensor(\"ones_1:0\", shape=(512, 10), dtype=float32)]\n",
            "outputs LOOKS LIKE [Tensor(\"CHAR-RNN/Reshape:0\", shape=(512, 10, 25), dtype=float32)]\n",
            "Y LOOKS LIKE [Tensor(\"Placeholder_1:0\", shape=(?, 10), dtype=int32)]\n"
          ],
          "name": "stdout"
        }
      ]
    },
    {
      "metadata": {
        "id": "o0QB-Kl-9EOW",
        "colab_type": "code",
        "colab": {
          "base_uri": "https://localhost:8080/",
          "height": 35
        },
        "outputId": "79fd4ee0-c42a-4215-a14f-9234709fe1c9"
      },
      "cell_type": "code",
      "source": [
        "loss = tf.reduce_mean(seq_loss)\n",
        "optm = tf.train.AdamOptimizer(learning_rate = 0.01).minimize(loss)\n",
        "print(\"Functions Defined\")"
      ],
      "execution_count": 18,
      "outputs": [
        {
          "output_type": "stream",
          "text": [
            "Functions Defined\n"
          ],
          "name": "stdout"
        }
      ]
    },
    {
      "metadata": {
        "id": "x7KtUo4s9EMD",
        "colab_type": "text"
      },
      "cell_type": "markdown",
      "source": [
        "### Now, Train and Optimize"
      ]
    },
    {
      "metadata": {
        "id": "F_rpmJeh9EJf",
        "colab_type": "code",
        "colab": {
          "base_uri": "https://localhost:8080/",
          "height": 197
        },
        "outputId": "a464c5d1-99ee-44b6-f262-a5bd221d1c8c"
      },
      "cell_type": "code",
      "source": [
        "config = tf.ConfigProto()\n",
        "config.gpu_options.allow_growth=True\n",
        "sess = tf.Session(config= config)\n",
        "sess.run(tf.global_variables_initializer())\n",
        "MAXITER = 2000\n",
        "for i in range(MAXITER):\n",
        "  randidx = np.random.randint(low=0, high = ndata, size = batch_size)\n",
        "  batchX = [dataX[iii] for iii in randidx]\n",
        "  batchY = [dataY[iii] for iii in randidx]\n",
        "  feeds = {X: batchX, Y: batchY}\n",
        "  _, loss_val, results = sess.run([optm,loss,outputs], feed_dict=feeds)\n",
        "  if (i%200)==0:\n",
        "    print (\"[%5d/%d] loss_val: %.5f\" %(i, MAXITER, loss_val))"
      ],
      "execution_count": 20,
      "outputs": [
        {
          "output_type": "stream",
          "text": [
            "[    0/2000] loss_val: 3.22349\n",
            "[  200/2000] loss_val: 0.16818\n",
            "[  400/2000] loss_val: 0.16984\n",
            "[  600/2000] loss_val: 0.17095\n",
            "[  800/2000] loss_val: 0.16767\n",
            "[ 1000/2000] loss_val: 0.16796\n",
            "[ 1200/2000] loss_val: 0.16884\n",
            "[ 1400/2000] loss_val: 0.17216\n",
            "[ 1600/2000] loss_val: 0.17409\n",
            "[ 1800/2000] loss_val: 0.17126\n"
          ],
          "name": "stdout"
        }
      ]
    },
    {
      "metadata": {
        "id": "1dwW9bH3A4Fp",
        "colab_type": "text"
      },
      "cell_type": "markdown",
      "source": [
        "### Batch Looks Like"
      ]
    },
    {
      "metadata": {
        "id": "tb90ScXTBJj9",
        "colab_type": "code",
        "colab": {
          "base_uri": "https://localhost:8080/",
          "height": 89
        },
        "outputId": "49ea6479-52d6-4908-f69e-435515b484e3"
      },
      "cell_type": "code",
      "source": [
        "print(\"LENGTH OF BATCHX IS %d\" % (len(batchX)))\n",
        "print(\"batchX[0] looks like %s\" %(batchX[0]))\n",
        "print(\"LENGTH OF BATCHY IS %d\" % (len(batchY)))\n",
        "print(\"batchY[0] looks like %s\" %(batchY[0]))"
      ],
      "execution_count": 21,
      "outputs": [
        {
          "output_type": "stream",
          "text": [
            "LENGTH OF BATCHX IS 512\n",
            "batchX[0] looks like [15, 22, 14, 17, 21, 15, 0, 15, 14, 16]\n",
            "LENGTH OF BATCHY IS 512\n",
            "batchY[0] looks like [22, 14, 17, 21, 15, 0, 15, 14, 16, 13]\n"
          ],
          "name": "stdout"
        }
      ]
    },
    {
      "metadata": {
        "id": "4ObJt5XpBJh0",
        "colab_type": "text"
      },
      "cell_type": "markdown",
      "source": [
        "### Print Chars"
      ]
    },
    {
      "metadata": {
        "id": "w0hW-10kBJfm",
        "colab_type": "code",
        "colab": {
          "base_uri": "https://localhost:8080/",
          "height": 557
        },
        "outputId": "a60de276-c360-471d-e6a7-9e743841259a"
      },
      "cell_type": "code",
      "source": [
        "randidx = np.random.randint(low=0, high = ndata, size = batch_size)\n",
        "batchX = [dataX[iii] for iii in randidx]\n",
        "batchY = [dataY[iii] for iii in randidx]\n",
        "feeds = {X: batchX}\n",
        "results = sess.run(outputs, feed_dict = feeds)\n",
        "for j, result in enumerate (results):\n",
        "  index = np.argmax(result, axis = 1)\n",
        "  chars = [char_set[t] for t in index]\n",
        "  if j <10:\n",
        "    print (\"OUT OF BATCH X:     %s => %s\" % (index, chars))\n",
        "    print(\"BATCH Y (TARGET):    %s\\n\" % (batchY[j]))"
      ],
      "execution_count": 22,
      "outputs": [
        {
          "output_type": "stream",
          "text": [
            "OUT OF BATCH X:     [17 21 16 22  3 14  9 15 24 17] => ['t', 'h', 'i', 'n', 'g', ' ', 'l', 'e', 'f', 't']\n",
            "BATCH Y (TARGET):    [17, 21, 16, 22, 3, 14, 9, 15, 24, 17]\n",
            "\n",
            "OUT OF BATCH X:     [14 14 17 21 15  0 15 14 16 13] => [' ', ' ', 't', 'h', 'e', 'r', 'e', ' ', 'i', 's']\n",
            "BATCH Y (TARGET):    [22, 14, 17, 21, 15, 0, 15, 14, 16, 13]\n",
            "\n",
            "OUT OF BATCH X:     [21 23  4 14 17  6  1 15 14  6] => ['h', 'w', 'o', ' ', 't', 'a', 'k', 'e', ' ', 'a']\n",
            "BATCH Y (TARGET):    [14, 17, 4, 14, 17, 6, 1, 15, 14, 6]\n",
            "\n",
            "OUT OF BATCH X:     [ 4 17 21 16 22  3 14  9 15 24] => ['o', 't', 'h', 'i', 'n', 'g', ' ', 'l', 'e', 'f']\n",
            "BATCH Y (TARGET):    [4, 17, 21, 16, 22, 3, 14, 9, 15, 24]\n",
            "\n",
            "OUT OF BATCH X:     [15  2 18 14 22  4 17 14 23 21] => ['e', 'd', ',', ' ', 'n', 'o', 't', ' ', 'w', 'h']\n",
            "BATCH Y (TARGET):    [15, 2, 18, 14, 22, 4, 17, 14, 23, 21]\n",
            "\n",
            "OUT OF BATCH X:     [14 17 14 17  4 14 17  6  1 15] => [' ', 't', ' ', 't', 'o', ' ', 't', 'a', 'k', 'e']\n",
            "BATCH Y (TARGET):    [24, 17, 14, 17, 4, 14, 17, 6, 1, 15]\n",
            "\n",
            "OUT OF BATCH X:     [ 4 17 13 14  6  7 21 16 15 19] => ['o', 't', 's', ' ', 'a', 'c', 'h', 'i', 'e', 'v']\n",
            "BATCH Y (TARGET):    [14, 16, 13, 14, 6, 7, 21, 16, 15, 19]\n",
            "\n",
            "OUT OF BATCH X:     [15 22 19 15  2 18 14 22  4 17] => ['e', 'n', 'v', 'e', 'd', ',', ' ', 'n', 'o', 't']\n",
            "BATCH Y (TARGET):    [16, 15, 19, 15, 2, 18, 14, 22, 4, 17]\n",
            "\n",
            "OUT OF BATCH X:     [17  2  2 18 14  5 12 17 14 23] => ['t', 'd', 'd', ',', ' ', 'b', 'u', 't', ' ', 'w']\n",
            "BATCH Y (TARGET):    [6, 2, 2, 18, 14, 5, 12, 17, 14, 23]\n",
            "\n",
            "OUT OF BATCH X:     [15  0 24 15  7 17 16  4 22 14] => ['e', 'r', 'f', 'e', 'c', 't', 'i', 'o', 'n', ' ']\n",
            "BATCH Y (TARGET):    [15, 0, 24, 15, 7, 17, 16, 4, 22, 14]\n",
            "\n"
          ],
          "name": "stdout"
        }
      ]
    },
    {
      "metadata": {
        "id": "1tgrCkwpBJdJ",
        "colab_type": "text"
      },
      "cell_type": "markdown",
      "source": [
        "### Sampling with real sentences"
      ]
    },
    {
      "metadata": {
        "id": "llg-Ski5CkpV",
        "colab_type": "code",
        "colab": {
          "base_uri": "https://localhost:8080/",
          "height": 53
        },
        "outputId": "5654431d-572b-4aaa-ae47-bdf5e0b240a0"
      },
      "cell_type": "code",
      "source": [
        "LEN = 1 # <= LENGTH IS 1 (single Alphabets)\n",
        "XL = tf.placeholder(tf.int32, [None, 1])\n",
        "XL_OH = tf.one_hot(XL, num_classes)\n",
        "with tf.variable_scope('CHAR-RNN', reuse=True):\n",
        "    cell_L = rnn.BasicLSTMCell(hidden_size, state_is_tuple=True, reuse=True)\n",
        "    istate = cell_L.zero_state(batch_size=1, dtype=tf.float32)\n",
        "    # DYNAMIC RNN WITH FULLY CONNECTED LAYER\n",
        "    _hiddens = tf.contrib.layers.fully_connected(XL_OH, hidden_size, activation_fn=tf.nn.relu)\n",
        "    _outputs_L, states_L = tf.nn.dynamic_rnn(cell_L, _hiddens, initial_state=istate, dtype=tf.float32)\n",
        "    _outputs_L = tf.contrib.layers.fully_connected(_outputs_L, num_classes, activation_fn=None)\n",
        "    # RESHAPE FOR SEQUNCE LOSS\n",
        "    outputs_L = tf.reshape(_outputs_L, [LEN, 1, num_classes])\n",
        "print (\"XL LOOKS LIKE %s\" % (XL))\n",
        "print (\"XL_OR LOOKS LIKE %s\" % (XL_OH))"
      ],
      "execution_count": 26,
      "outputs": [
        {
          "output_type": "stream",
          "text": [
            "XL LOOKS LIKE Tensor(\"Placeholder_3:0\", shape=(?, 1), dtype=int32)\n",
            "XL_OR LOOKS LIKE Tensor(\"one_hot_2:0\", shape=(?, 1, 25), dtype=float32)\n"
          ],
          "name": "stdout"
        }
      ]
    },
    {
      "metadata": {
        "id": "h_BBmb93ClkP",
        "colab_type": "text"
      },
      "cell_type": "markdown",
      "source": [
        "Helper Function"
      ]
    },
    {
      "metadata": {
        "id": "TR-ZwCgQClhz",
        "colab_type": "code",
        "colab": {}
      },
      "cell_type": "code",
      "source": [
        "def weighted_pick(weights):\n",
        "  t = np.cumsum(weights)\n",
        "  s = np.sum(weights)\n",
        "  return(int(np.searchsorted(t, np.random.rand(1)*s)))\n",
        "def softmax(x):\n",
        "  alpha = 1\n",
        "  e_x = np.exp(alpha*(x-np.max(x)))\n",
        "  return e_x / np.sum(e_x)"
      ],
      "execution_count": 0,
      "outputs": []
    },
    {
      "metadata": {
        "id": "5Chy0X7sClfQ",
        "colab_type": "text"
      },
      "cell_type": "markdown",
      "source": [
        "## Sample"
      ]
    },
    {
      "metadata": {
        "id": "WG0zl0LjClc1",
        "colab_type": "text"
      },
      "cell_type": "markdown",
      "source": [
        "### Burnin \n",
        "어느정도까지 state Value를 만들어 놓음"
      ]
    },
    {
      "metadata": {
        "id": "RGJpwWZqClap",
        "colab_type": "code",
        "colab": {
          "base_uri": "https://localhost:8080/",
          "height": 431
        },
        "outputId": "17bc28ed-4efa-45ec-cf6a-c4a3c9f02534"
      },
      "cell_type": "code",
      "source": [
        "prime = 'Perfection is'\n",
        "istateval = sess.run(cell_L.zero_state(1, tf.float32))\n",
        "for i, c in enumerate(prime[:-1]):\n",
        "  index = char_dic[c]\n",
        "  inval = [[index]]\n",
        "  outval, stateval, = sess.run([outputs_L, states_L], feed_dict = {XL: inval, istate: istateval})\n",
        "  istateval = stateval #Need to update it manually (not resetting to 0)\n",
        "  if i<3:\n",
        "    print(\"[%d] -char:   %s\\n        -inval: %s\\n          -outval: %s \" %(i,c,inval,outval))"
      ],
      "execution_count": 28,
      "outputs": [
        {
          "output_type": "stream",
          "text": [
            "[0] -char:   P\n",
            "        -inval: [[20]]\n",
            "          -outval: [[[ 2.0184999  -3.0783024  -2.4073434  -1.3308257   0.14816126\n",
            "   -5.4975224  -5.8551426  -3.692172   -4.1441636  -1.3028071\n",
            "   -0.9030321  -3.7424674  -2.9275444  -2.5180972   2.3759995\n",
            "   11.894718    3.1014528  -1.2285695  -2.2755907  -3.9800477\n",
            "   -4.7920647   0.29798278 -1.374332   -6.5023813   0.25475442]]] \n",
            "[1] -char:   e\n",
            "        -inval: [[15]]\n",
            "          -outval: [[[ 1.3329857e+01 -1.9366572e+00  1.2236079e+00  1.4074770e+00\n",
            "   -2.5847020e+00 -5.9753519e-01 -9.0684776e+00  3.0838647e+00\n",
            "   -4.4462156e+00  1.8340709e+00  9.3111187e-01 -3.2434022e+00\n",
            "   -1.9366205e+00 -7.7895975e+00  4.1669011e+00  1.9124703e+00\n",
            "   -4.0079122e+00  1.1646785e-02 -1.1735548e+00  3.5084155e+00\n",
            "   -3.9057841e+00 -4.1389947e+00  4.2248154e+00 -4.4388084e+00\n",
            "    6.5171471e+00]]] \n",
            "[2] -char:   r\n",
            "        -inval: [[0]]\n",
            "          -outval: [[[  3.8341448   -4.383765     1.3476018   -7.659535    -0.83428717\n",
            "    -5.1933603  -10.180303     0.5801746   -1.1005819   -2.5937529\n",
            "    -3.3101265   -4.4179673   -5.02963     -4.4955626    3.9866521\n",
            "     9.34317      0.50501263   4.9010816    0.45738056  -1.8988098\n",
            "    -3.8323731    2.7902713   -5.3031807  -10.049649    16.374882  ]]] \n"
          ],
          "name": "stdout"
        }
      ]
    },
    {
      "metadata": {
        "id": "TMQjDgWdClYL",
        "colab_type": "text"
      },
      "cell_type": "markdown",
      "source": [
        "### Sample\n"
      ]
    },
    {
      "metadata": {
        "id": "p_pBiZxaClVu",
        "colab_type": "code",
        "colab": {
          "base_uri": "https://localhost:8080/",
          "height": 827
        },
        "outputId": "bb350916-fee8-4043-f486-c03dfdeaffdf"
      },
      "cell_type": "code",
      "source": [
        "inval = [[char_dic[prime[-1]]]]\n",
        "outval, stateval, = sess.run([outputs_L, states_L], feed_dict = {XL:inval, istate:istateval})\n",
        "istateval = stateval\n",
        "index = np.argmax(outval)\n",
        "char = char_set[index]\n",
        "chars = char\n",
        "for i in range(100):\n",
        "  inval = [[index]]\n",
        "  outval, stateval, = sess.run([outputs_L, states_L], feed_dict = {XL:inval, istate:istateval})\n",
        "  istateval = stateval\n",
        "  index = weighted_pick (softmax(outval))\n",
        "  char = char_set[index]\n",
        "  chars += char\n",
        "  if i<5:\n",
        "    print (\"[%d] \\n -inval: %s \\n -outval: %s \\n -index: %d (char: %s) \\n -chars: %s\" %(i, inval, outval, index, char, chars))"
      ],
      "execution_count": 36,
      "outputs": [
        {
          "output_type": "stream",
          "text": [
            "[0] \n",
            " -inval: [[14]] \n",
            " -outval: [[[-0.5296618  -5.2545314  -6.4651403  -3.6092443   3.036845\n",
            "    5.417918    7.7686768  -3.44881    -4.432367   -1.401354\n",
            "   -2.0292108  -1.8153312  -3.3270125  -4.0432158   4.077156\n",
            "   -2.8549223  -0.3917279   6.3056517  -4.231882   -3.5820951\n",
            "   -5.0756216   0.8595918   7.0067086  -0.45310456 -3.900176  ]]] \n",
            " -index: 14 (char:  ) \n",
            " -chars:   \n",
            "[1] \n",
            " -inval: [[14]] \n",
            " -outval: [[[-3.1658716  -5.427582   -1.9004966  -6.2994604   1.7897875\n",
            "    1.0864255   3.7496128  -0.01888254 -5.004441   -1.0342398\n",
            "   -1.3573551  -2.446954    2.0126808  -0.52119756 -0.77971613\n",
            "   -0.96473324  3.1472507  11.79686    -5.0440283  -6.5534654\n",
            "   -5.6063466  -1.2281669   2.3464704   5.613884   -4.0813804 ]]] \n",
            " -index: 17 (char: t) \n",
            " -chars:   t\n",
            "[2] \n",
            " -inval: [[17]] \n",
            " -outval: [[[-3.2141252   0.46139887 -1.8482741  -4.9012055   8.154205\n",
            "   -3.0452607   7.814602   -3.1504538  -2.8097513  -9.072678\n",
            "   -8.246405   -3.193805   -4.065776   -1.1764843   5.613786\n",
            "    0.10685425 -1.8988944  -0.37103292 -9.505676   -6.2561784\n",
            "   -6.133463    6.7224064  -3.8811038  -1.3456507  -4.751828  ]]] \n",
            " -index: 6 (char: a) \n",
            " -chars:   ta\n",
            "[3] \n",
            " -inval: [[6]] \n",
            " -outval: [[[-3.558961   13.006101    5.042252   -3.491796    4.228934\n",
            "   -3.060282    0.28244412  5.7907324   1.6564379  -7.0040526\n",
            "   -6.756425    6.600189   -0.745991   -2.3791294   6.693503\n",
            "    2.299017   -4.570708   -4.5000567  -4.162441   -3.9745147\n",
            "   -1.8469801  -1.2128375  -7.363077    4.0000095  -0.9064945 ]]] \n",
            " -index: 1 (char: k) \n",
            " -chars:   tak\n",
            "[4] \n",
            " -inval: [[1]] \n",
            " -outval: [[[-1.7253864  -0.07104155  0.77498746 -6.16491     0.67485714\n",
            "   -3.3032997   0.91181815 -3.585076    1.9883431  -6.451372\n",
            "   -6.091856   -0.7861253  -6.7577066  -2.2152085   3.894792\n",
            "   12.903544   -2.8138702  -1.8613496  -3.328799   -5.673904\n",
            "   -3.9732125   1.3413944  -1.5246221  -4.662113    3.4521813 ]]] \n",
            " -index: 15 (char: e) \n",
            " -chars:   take\n"
          ],
          "name": "stdout"
        }
      ]
    },
    {
      "metadata": {
        "id": "Wn4pFgAuClM8",
        "colab_type": "code",
        "colab": {
          "base_uri": "https://localhost:8080/",
          "height": 107
        },
        "outputId": "b22458eb-3d8f-4d70-b7fa-d71ebd054577"
      },
      "cell_type": "code",
      "source": [
        "print(\"<Sampled Sentence> \\n %s\" %(prime+chars))\n",
        "print(\"\\n<Original Sentence> \\n %s\" %(sentence))"
      ],
      "execution_count": 37,
      "outputs": [
        {
          "output_type": "stream",
          "text": [
            "<Sampled Sentence> \n",
            " Perfection is  take away.. when there is nothing left to take away. away. when there is nothing more to add, but w\n",
            "\n",
            "<Original Sentence> \n",
            " Perfection is achieved, not when there is nothing more to add, but when there is nothing left to take away.\n"
          ],
          "name": "stdout"
        }
      ]
    },
    {
      "metadata": {
        "id": "IEv075frGS6A",
        "colab_type": "code",
        "colab": {}
      },
      "cell_type": "code",
      "source": [
        ""
      ],
      "execution_count": 0,
      "outputs": []
    }
  ]
}