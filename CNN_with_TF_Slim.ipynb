{
  "nbformat": 4,
  "nbformat_minor": 0,
  "metadata": {
    "colab": {
      "name": "CNN with TF-Slim",
      "version": "0.3.2",
      "provenance": [],
      "collapsed_sections": [],
      "toc_visible": true,
      "include_colab_link": true
    },
    "kernelspec": {
      "name": "python3",
      "display_name": "Python 3"
    },
    "accelerator": "GPU"
  },
  "cells": [
    {
      "cell_type": "markdown",
      "metadata": {
        "id": "view-in-github",
        "colab_type": "text"
      },
      "source": [
        "[View in Colaboratory](https://colab.research.google.com/github/sl2820/Deep_Learning_Study/blob/master/CNN_with_TF_Slim.ipynb)"
      ]
    },
    {
      "metadata": {
        "id": "OJwBvW2Bnq_4",
        "colab_type": "text"
      },
      "cell_type": "markdown",
      "source": [
        "### CNN MODEL wtih TF-Slim"
      ]
    },
    {
      "metadata": {
        "id": "aOVE7oM6ZXyI",
        "colab_type": "text"
      },
      "cell_type": "markdown",
      "source": [
        "# CNN Model with TF-Slim"
      ]
    },
    {
      "metadata": {
        "id": "h3COpZ7MZWSo",
        "colab_type": "code",
        "colab": {
          "base_uri": "https://localhost:8080/",
          "height": 51
        },
        "outputId": "ab02ceef-de3f-4199-b4ba-be94fd9a8ed3"
      },
      "cell_type": "code",
      "source": [
        "import tensorflow as tf\n",
        "import numpy as np\n",
        "import os\n",
        "from scipy import ndimage\n",
        "from six.moves import urllib\n",
        "import tensorflow.contrib.slim as slim\n",
        "import gzip\n",
        "from tensorflow.examples.tutorials.mnist import input_data\n",
        "import matplotlib.pyplot as plt\n",
        "%matplotlib inline\n",
        "print (\"Current TF Version [%s]\" % (tf.__version__))\n",
        "print (\"Package Loaded\")"
      ],
      "execution_count": 1,
      "outputs": [
        {
          "output_type": "stream",
          "text": [
            "Current TF Version [1.11.0-rc2]\n",
            "Package Loaded\n"
          ],
          "name": "stdout"
        }
      ]
    },
    {
      "metadata": {
        "id": "ADDfjinpw3N1",
        "colab_type": "code",
        "colab": {}
      },
      "cell_type": "code",
      "source": [
        "###\n",
        "#def CNN (inputs, _is_training=True):\n",
        " # x = tf.reshape(inputs, [-1,28,28,1])\n",
        "  #batch_norm_params = {'is_training': _is_training, 'decay': 0.9, 'updates_collections': None}\n",
        "  #net = slim.conv2d(x, 32, [5,5], padding='SAME'\n",
        "  #                 , activation_fn = tf.nn.relu\n",
        "  #                 , weights_initializer = tf.truncated_normal_initializer(stddev = 0.01)\n",
        "  #                 , normalizer_fn = slim.batch_norm\n",
        "  #                 , normalizer_params = batch_norm_params\n",
        "  #                 , scope = 'conv1') # adding bias, normalizing and everything is done right away.\n",
        "  #net = slim.max_pool2d(net, [2,2], scope = 'pool1')\n",
        "  #net = slim.conv2d(net, 64, [5,5], scope = 'conv2')\n",
        "  #net = slim.max_pool2d(net, [2,2], scope = 'pool2')\n",
        "  #net = slim.flatten(net, scope = 'flatten3')\n",
        "  #net = slim.fully_connected(net, 1024\n",
        "  #                          , activation_fn = tf.nn.relu\n",
        "  #                          , weights_initializer = tf.truncated_normal_initializer(stddev = 0.01)\n",
        "  #                          , normalizer_fn = slim.batch_norm\n",
        "  #                          , normalizer_params = batch_norm_params\n",
        "  #                          , scope = 'fc4')\n",
        "  #net = slim.dropout(net, keep_prob = 0.7, is_training=_is_training, scope = 'dropout4')\n",
        "  #out = slim.fully_connected(net, 10, activation_fn = None, normalizer_fn = None, scope = 'fco')\n",
        "  #return out\n",
        "###"
      ],
      "execution_count": 0,
      "outputs": []
    },
    {
      "metadata": {
        "id": "3x1BJgwpnpPP",
        "colab_type": "text"
      },
      "cell_type": "markdown",
      "source": [
        "### Handling MNIST"
      ]
    },
    {
      "metadata": {
        "id": "jRXxHNduva9v",
        "colab_type": "code",
        "colab": {}
      },
      "cell_type": "code",
      "source": [
        "# Data URL\n",
        "SOURCE_URL = \"http://yann.lecun.com/exdb/mnist/\"\n",
        "DATA_DIRECTORY = \"data\"\n",
        "# Parameters for MNIST\n",
        "IMAGE_SIZE = 28\n",
        "NUM_CHANNELS = 1\n",
        "PIXEL_DEPTH = 255\n",
        "NUM_LABELS = 10\n",
        "VALIDATION_SIZE = 5000 # Size of the validation set\n",
        "\n",
        "# Download MNIST data, if necessary\n",
        "def maybe_download(filename):\n",
        "  if not tf.gfile.Exists(DATA_DIRECTORY):\n",
        "    tf.gfile.MakeDirs(DATA_DIRECTORY)\n",
        "  filepath = os.path.join(DATA_DIRECTORY, filename)\n",
        "  if not tf.gfile.Exists(filepath):\n",
        "    filepath, _ = urllib.request.urlretrieve(SOURCE_URL + filename, filepath)\n",
        "    with tf.gfile.GFile(filepath) as f:\n",
        "      size = f.size()\n",
        "    print (\"Successfully downloaded \", filename, size, ' bytes.')\n",
        "  return filepath\n",
        "\n",
        "# Extract the images\n",
        "def extract_data(filename, num_images):\n",
        "    \"\"\"Extract the images into a 4D tensor [image index, y, x, channels].\n",
        "    Values are rescaled from [0, 255] down to [-0.5, 0.5].\n",
        "    \"\"\"\n",
        "    print('Extracting', filename)\n",
        "    with gzip.open(filename) as bytestream:\n",
        "        bytestream.read(16)\n",
        "        buf = bytestream.read(IMAGE_SIZE * IMAGE_SIZE * num_images * NUM_CHANNELS)\n",
        "        data = numpy.frombuffer(buf, dtype=numpy.uint8).astype(numpy.float32)\n",
        "        data = (data - (PIXEL_DEPTH / 2.0)) / PIXEL_DEPTH\n",
        "        data = data.reshape(num_images, IMAGE_SIZE, IMAGE_SIZE, NUM_CHANNELS)\n",
        "        data = numpy.reshape(data, [num_images, -1])\n",
        "    return data\n",
        "\n",
        "# Extract the Labels\n",
        "def extract_labels(filename, num_images):\n",
        "  with gzip.open(filename) as bytestream:\n",
        "    bytestream.read(8)\n",
        "    buf = bytestream.read(1*num_images)\n",
        "    labels = np.frombuffer(buf, dtype = np.uint8).astype(np.int64)\n",
        "    num_labels_data = len(labels)\n",
        "    one_hot_encoding = np.zeros((num_labels_data, NUM_LABELS))\n",
        "    one_hot_encoding[np.arange(num_labels_data), labels]=1\n",
        "    one_hot_encoding = np.reshape(one_hot_encoding, [-1, NUM_LABELS])\n",
        "  return one_hot_encoding\n",
        "\n",
        "# Augment training data\n",
        "def expend_training_data(images, labels):\n",
        "\n",
        "    expanded_images = []\n",
        "    expanded_labels = []\n",
        "\n",
        "    j = 0 # counter\n",
        "    for x, y in zip(images, labels):\n",
        "        j = j+1\n",
        "        if j%100==0:\n",
        "            print ('expanding data : %03d / %03d' % (j,numpy.size(images,0)))\n",
        "\n",
        "        # register original data\n",
        "        expanded_images.append(x)\n",
        "        expanded_labels.append(y)\n",
        "\n",
        "        # get a value for the background\n",
        "        # zero is the expected value, but median() is used to estimate background's value \n",
        "        bg_value = numpy.median(x) # this is regarded as background's value        \n",
        "        image = numpy.reshape(x, (-1, 28))\n",
        "\n",
        "        for i in range(4):\n",
        "            # rotate the image with random degree\n",
        "            angle = numpy.random.randint(-15,15,1)\n",
        "            new_img = ndimage.rotate(image,angle,reshape=False, cval=bg_value)\n",
        "\n",
        "            # shift the image with random distance\n",
        "            shift = numpy.random.randint(-2, 2, 2)\n",
        "            new_img_ = ndimage.shift(new_img,shift, cval=bg_value)\n",
        "\n",
        "            # register new training data\n",
        "            expanded_images.append(numpy.reshape(new_img_, 784))\n",
        "            expanded_labels.append(y)\n",
        "\n",
        "    # images and labels are concatenated for random-shuffle at each epoch\n",
        "    # notice that pair of image and label should not be broken\n",
        "    expanded_train_total_data = numpy.concatenate((expanded_images, expanded_labels), axis=1)\n",
        "    numpy.random.shuffle(expanded_train_total_data)\n",
        "\n",
        "    return expanded_train_total_data\n",
        "\n",
        "# Prepare MNISt data\n",
        "def prepare_MNIST_data(use_data_augmentation=True):\n",
        "    # Get the data.\n",
        "    train_data_filename = maybe_download('train-images-idx3-ubyte.gz')\n",
        "    train_labels_filename = maybe_download('train-labels-idx1-ubyte.gz')\n",
        "    test_data_filename = maybe_download('t10k-images-idx3-ubyte.gz')\n",
        "    test_labels_filename = maybe_download('t10k-labels-idx1-ubyte.gz')\n",
        "\n",
        "    # Extract it into numpy arrays.\n",
        "    train_data = extract_data(train_data_filename, 60000)\n",
        "    train_labels = extract_labels(train_labels_filename, 60000)\n",
        "    test_data = extract_data(test_data_filename, 10000)\n",
        "    test_labels = extract_labels(test_labels_filename, 10000)\n",
        "\n",
        "    # Generate a validation set.\n",
        "    validation_data = train_data[:VALIDATION_SIZE, :]\n",
        "    validation_labels = train_labels[:VALIDATION_SIZE,:]\n",
        "    train_data = train_data[VALIDATION_SIZE:, :]\n",
        "    train_labels = train_labels[VALIDATION_SIZE:,:]\n",
        "\n",
        "    # Concatenate train_data & train_labels for random shuffle\n",
        "    if use_data_augmentation:\n",
        "        train_total_data = expend_training_data(train_data, train_labels)\n",
        "    else:\n",
        "        train_total_data = numpy.concatenate((train_data, train_labels), axis=1)\n",
        "\n",
        "    train_size = train_total_data.shape[0]\n",
        "\n",
        "    return train_total_data, train_size, validation_data, validation_labels, test_data, test_labels\n",
        "\n",
        "#### From github.com/Hwalsuklee/tensorflow-mnist-cnn\n"
      ],
      "execution_count": 0,
      "outputs": []
    },
    {
      "metadata": {
        "id": "bLAHRVjrvco0",
        "colab_type": "text"
      },
      "cell_type": "markdown",
      "source": [
        "### For Our Model"
      ]
    },
    {
      "metadata": {
        "id": "ssDm9Zeav8-n",
        "colab_type": "text"
      },
      "cell_type": "markdown",
      "source": [
        "#### Load MNIST\n"
      ]
    },
    {
      "metadata": {
        "id": "AUHudFdmvXmf",
        "colab_type": "code",
        "colab": {
          "base_uri": "https://localhost:8080/",
          "height": 547
        },
        "outputId": "33c46503-6205-4965-d1e3-c53bcd57d1d3"
      },
      "cell_type": "code",
      "source": [
        "mnist = input_data.read_data_sets('data/', one_hot = True)\n",
        "trainimg = mnist.train.images\n",
        "trainlabel = mnist.train.labels\n",
        "valimg = mnist.validation.images\n",
        "vallabel = mnist.validation.labels\n",
        "testimg = mnist.test.images\n",
        "testlabel = mnist.test.labels\n",
        "print (\"MNIST Ready\")"
      ],
      "execution_count": 4,
      "outputs": [
        {
          "output_type": "stream",
          "text": [
            "WARNING:tensorflow:From <ipython-input-4-17386699911b>:1: read_data_sets (from tensorflow.contrib.learn.python.learn.datasets.mnist) is deprecated and will be removed in a future version.\n",
            "Instructions for updating:\n",
            "Please use alternatives such as official/mnist/dataset.py from tensorflow/models.\n",
            "WARNING:tensorflow:From /usr/local/lib/python3.6/dist-packages/tensorflow/contrib/learn/python/learn/datasets/mnist.py:260: maybe_download (from tensorflow.contrib.learn.python.learn.datasets.base) is deprecated and will be removed in a future version.\n",
            "Instructions for updating:\n",
            "Please write your own downloading logic.\n",
            "WARNING:tensorflow:From /usr/local/lib/python3.6/dist-packages/tensorflow/contrib/learn/python/learn/datasets/base.py:252: _internal_retry.<locals>.wrap.<locals>.wrapped_fn (from tensorflow.contrib.learn.python.learn.datasets.base) is deprecated and will be removed in a future version.\n",
            "Instructions for updating:\n",
            "Please use urllib or similar directly.\n",
            "Successfully downloaded train-images-idx3-ubyte.gz 9912422 bytes.\n",
            "WARNING:tensorflow:From /usr/local/lib/python3.6/dist-packages/tensorflow/contrib/learn/python/learn/datasets/mnist.py:262: extract_images (from tensorflow.contrib.learn.python.learn.datasets.mnist) is deprecated and will be removed in a future version.\n",
            "Instructions for updating:\n",
            "Please use tf.data to implement this functionality.\n",
            "Extracting data/train-images-idx3-ubyte.gz\n",
            "Successfully downloaded train-labels-idx1-ubyte.gz 28881 bytes.\n",
            "WARNING:tensorflow:From /usr/local/lib/python3.6/dist-packages/tensorflow/contrib/learn/python/learn/datasets/mnist.py:267: extract_labels (from tensorflow.contrib.learn.python.learn.datasets.mnist) is deprecated and will be removed in a future version.\n",
            "Instructions for updating:\n",
            "Please use tf.data to implement this functionality.\n",
            "Extracting data/train-labels-idx1-ubyte.gz\n",
            "WARNING:tensorflow:From /usr/local/lib/python3.6/dist-packages/tensorflow/contrib/learn/python/learn/datasets/mnist.py:110: dense_to_one_hot (from tensorflow.contrib.learn.python.learn.datasets.mnist) is deprecated and will be removed in a future version.\n",
            "Instructions for updating:\n",
            "Please use tf.one_hot on tensors.\n",
            "Successfully downloaded t10k-images-idx3-ubyte.gz 1648877 bytes.\n",
            "Extracting data/t10k-images-idx3-ubyte.gz\n",
            "Successfully downloaded t10k-labels-idx1-ubyte.gz 4542 bytes.\n",
            "Extracting data/t10k-labels-idx1-ubyte.gz\n",
            "WARNING:tensorflow:From /usr/local/lib/python3.6/dist-packages/tensorflow/contrib/learn/python/learn/datasets/mnist.py:290: DataSet.__init__ (from tensorflow.contrib.learn.python.learn.datasets.mnist) is deprecated and will be removed in a future version.\n",
            "Instructions for updating:\n",
            "Please use alternatives such as official/mnist/dataset.py from tensorflow/models.\n",
            "MNIST Ready\n"
          ],
          "name": "stdout"
        }
      ]
    },
    {
      "metadata": {
        "id": "RdIjhHsfxs3c",
        "colab_type": "text"
      },
      "cell_type": "markdown",
      "source": [
        "### Define Model"
      ]
    },
    {
      "metadata": {
        "id": "YF0-U6LWwAR7",
        "colab_type": "code",
        "colab": {
          "base_uri": "https://localhost:8080/",
          "height": 34
        },
        "outputId": "f70d6bb2-d850-4a1e-d683-4e1af4b709e6"
      },
      "cell_type": "code",
      "source": [
        "n_input = 784\n",
        "n_classes = 10\n",
        "x = tf.placeholder(\"float\", [None, n_input])\n",
        "y = tf.placeholder(\"float\", [None, n_classes])\n",
        "is_training = tf.placeholder(tf.bool)\n",
        "\n",
        "def lrelu(x, leak=0.2, name='lrelu'):\n",
        "    with tf.variable_scope(name):\n",
        "        f1 = 0.5 * (1 + leak)\n",
        "        f2 = 0.5 * (1 - leak)\n",
        "        return f1 * x + f2 * abs(x)\n",
        "\n",
        "def CNN(inputs, is_training=True):\n",
        "    x = tf.reshape(inputs, [-1, 28, 28, 1])\n",
        "    batch_norm_params = {'is_training': is_training\n",
        "                         , 'decay':0.9\n",
        "                         , 'updates_collections':None}\n",
        "    init_func = tf.truncated_normal_initializer(stddev=0.01)\n",
        "    net = slim.conv2d(x, 32, [5, 5], padding='SAME'\n",
        "                                , activation_fn = lrelu\n",
        "                                , weights_initializer = init_func\n",
        "                                , normalizer_fn = slim.batch_norm\n",
        "                                , normalizer_params = batch_norm_params\n",
        "                                , scope='conv1')\n",
        "    net = slim.max_pool2d(net, [2, 2], scope='pooll')\n",
        "    net = slim.conv2d(x, 64, [5, 5], padding='SAME'\n",
        "                                , activation_fn = lrelu\n",
        "                                , weights_initializer = init_func\n",
        "                                , normalizer_fn = slim.batch_norm\n",
        "                                , normalizer_params = batch_norm_params\n",
        "                                , scope='conv2')\n",
        "    net = slim.max_pool2d(net, [2, 2], scope='pool2')\n",
        "    net = slim.flatten(net, scope='flatten3')\n",
        "    net = slim.fully_connected(net, 1024\n",
        "                                , activation_fn = lrelu\n",
        "                                , weights_initializer = init_func\n",
        "                                , normalizer_fn = slim.batch_norm\n",
        "                                , normalizer_params = batch_norm_params\n",
        "                                , scope='fc4')\n",
        "    net = slim.dropout(net, keep_prob=0.7, is_training=is_training, scope='dr')\n",
        "    out = slim.fully_connected(net, n_classes, activation_fn=None, normalizer_fn=None, scope='foo')\n",
        "    return out\n",
        "print (\"NETWORK READY\")"
      ],
      "execution_count": 5,
      "outputs": [
        {
          "output_type": "stream",
          "text": [
            "NETWORK READY\n"
          ],
          "name": "stdout"
        }
      ]
    },
    {
      "metadata": {
        "id": "4q9mduAjv_YJ",
        "colab_type": "text"
      },
      "cell_type": "markdown",
      "source": [
        "### Define Graph"
      ]
    },
    {
      "metadata": {
        "id": "g3oaFzuPv8HV",
        "colab_type": "code",
        "colab": {
          "base_uri": "https://localhost:8080/",
          "height": 190
        },
        "outputId": "ae32aeff-559d-4958-a6e2-2b7caf2734fd"
      },
      "cell_type": "code",
      "source": [
        "# PREDICTION\n",
        "pred = CNN(x, is_training)\n",
        "\n",
        "# LOSS AND OPTIMIZER\n",
        "cost = tf.reduce_mean(tf.nn.softmax_cross_entropy_with_logits(labels=y, logits=pred))\n",
        "optm = tf.train.AdamOptimizer(learning_rate=0.001).minimize(cost)\n",
        "corr = tf.equal(tf.argmax(pred, 1), tf.argmax(y, 1))\n",
        "accr = tf.reduce_mean(tf.cast(corr, \"float\"))\n",
        "\n",
        "# INITIALIZER\n",
        "init = tf.global_variables_initializer()\n",
        "sess = tf.Session()\n",
        "sess.run(init)\n",
        "print (\"FUNCTION READY\")\n"
      ],
      "execution_count": 6,
      "outputs": [
        {
          "output_type": "stream",
          "text": [
            "WARNING:tensorflow:From <ipython-input-6-0840b406d908>:4: softmax_cross_entropy_with_logits (from tensorflow.python.ops.nn_ops) is deprecated and will be removed in a future version.\n",
            "Instructions for updating:\n",
            "\n",
            "Future major versions of TensorFlow will allow gradients to flow\n",
            "into the labels input on backprop by default.\n",
            "\n",
            "See `tf.nn.softmax_cross_entropy_with_logits_v2`.\n",
            "\n",
            "FUNCTION READY\n"
          ],
          "name": "stdout"
        }
      ]
    },
    {
      "metadata": {
        "id": "opGSdz9RvjqA",
        "colab_type": "text"
      },
      "cell_type": "markdown",
      "source": [
        "### Check Variables"
      ]
    },
    {
      "metadata": {
        "id": "rMBWDwrvvYDb",
        "colab_type": "code",
        "colab": {
          "base_uri": "https://localhost:8080/",
          "height": 170
        },
        "outputId": "d05763d7-4848-44b4-f72d-8c6b0cca50ef"
      },
      "cell_type": "code",
      "source": [
        "print(\"================== Trainable Variables=====================\")\n",
        "t_weights = tf.trainable_variables()\n",
        "var_names_list = [v.name for v in tf.trainable_variables()]\n",
        "for i in range (len(t_weights)):\n",
        "  wval = sess.run(t_weights[i])\n",
        "  print (\"[%d/%d] [%s] / SHAPE IS %s\"\n",
        "        % (i, len(t_weights), var_names_list[i], wval.shape,))"
      ],
      "execution_count": 8,
      "outputs": [
        {
          "output_type": "stream",
          "text": [
            "================== Trainable Variables=====================\n",
            "[0/8] [conv1/weights:0] / SHAPE IS (5, 5, 1, 32)\n",
            "[1/8] [conv1/BatchNorm/beta:0] / SHAPE IS (32,)\n",
            "[2/8] [conv2/weights:0] / SHAPE IS (5, 5, 1, 64)\n",
            "[3/8] [conv2/BatchNorm/beta:0] / SHAPE IS (64,)\n",
            "[4/8] [fc4/weights:0] / SHAPE IS (12544, 1024)\n",
            "[5/8] [fc4/BatchNorm/beta:0] / SHAPE IS (1024,)\n",
            "[6/8] [foo/weights:0] / SHAPE IS (1024, 10)\n",
            "[7/8] [foo/biases:0] / SHAPE IS (10,)\n"
          ],
          "name": "stdout"
        }
      ]
    },
    {
      "metadata": {
        "id": "anu0hh5wvSWj",
        "colab_type": "text"
      },
      "cell_type": "markdown",
      "source": [
        "### Saver"
      ]
    },
    {
      "metadata": {
        "id": "j2fFRkgc1STM",
        "colab_type": "code",
        "colab": {
          "base_uri": "https://localhost:8080/",
          "height": 34
        },
        "outputId": "c20be4f6-21e5-4714-8127-c7601855ef4f"
      },
      "cell_type": "code",
      "source": [
        "savedir = 'nets/cnn_mnist_modern'\n",
        "saver = tf.train.Saver(max_to_keep = 100)\n",
        "save_step = 4\n",
        "if not os.path.exists(savedir):\n",
        "  os.makedirs(savedir)\n",
        "print (\"Saver Ready\")"
      ],
      "execution_count": 9,
      "outputs": [
        {
          "output_type": "stream",
          "text": [
            "Saver Ready\n"
          ],
          "name": "stdout"
        }
      ]
    },
    {
      "metadata": {
        "id": "N1rmKVI91Sg-",
        "colab_type": "text"
      },
      "cell_type": "markdown",
      "source": [
        "### Augmentation of DATA"
      ]
    },
    {
      "metadata": {
        "id": "dzVM01Ro1SeE",
        "colab_type": "code",
        "colab": {}
      },
      "cell_type": "code",
      "source": [
        "def augment_img(xs):\n",
        "  out = np.copy(xs)\n",
        "  xs_r = np.reshape(xs, [-1,28,28])\n",
        "  for i in range (xs_r.shape[0]):\n",
        "    xs_img = xs_r[i, :, :]\n",
        "    bg_value = 0\n",
        "    # Rotate\n",
        "    angle = np.random.randint(-15,15,1).astype(float)\n",
        "    xs_img = ndimage.rotate(xs_img, angle, reshape=False, cval = bg_value)\n",
        "    #Zoom\n",
        "    rg = 0.1\n",
        "    zoom_factor = np.random.uniform(1.,1.+rg)\n",
        "    h, w = xs_img.shape[:2]\n",
        "    zh = int(np.round(zoom_factor * h))\n",
        "    zw = int(np.round(zoom_factor * w))\n",
        "    top = (zh-h)//2\n",
        "    left = (zw-w)//2\n",
        "    zoom_tuple = (zoom_factor,) *2 + (1,) * (xs_img.ndim-2)\n",
        "    temp = ndimage.zoom(xs_img[top:top+zh, left: left+zw], zoom_tuple)\n",
        "    trim_top = ((temp.shape[0]-h)//2)\n",
        "    trim_left = ((temp.shape[1]-w)//2)\n",
        "    xs_img = temp[trim_top:trim_top+h, trim_left: trim_left+w]\n",
        "    #Shift\n",
        "    shift = np.random.randint(-3,3,2)\n",
        "    xs_img = ndimage.shift(xs_img, shift, cval=bg_value)\n",
        "    # Reshape\n",
        "    xs_v = np.reshape(xs_img, [1,-1])\n",
        "    out [i, : ] = xs_v\n",
        "  return out\n",
        "    "
      ],
      "execution_count": 0,
      "outputs": []
    },
    {
      "metadata": {
        "id": "ORgfVGDW1Scy",
        "colab_type": "text"
      },
      "cell_type": "markdown",
      "source": [
        "### Test Augmentation"
      ]
    },
    {
      "metadata": {
        "id": "60KjhZz21SY3",
        "colab_type": "code",
        "colab": {
          "base_uri": "https://localhost:8080/",
          "height": 585
        },
        "outputId": "a6b525e9-37d2-4d63-f028-7a54a0a49385"
      },
      "cell_type": "code",
      "source": [
        "naug = 2\n",
        "batch_xs = trainimg[:naug, :]\n",
        "xs2 = augment_img(batch_xs)\n",
        "for i in range (naug):\n",
        "  x1 = batch_xs[i,:].reshape([28,28])\n",
        "  x2 = xs2[i,:].reshape([28,28])\n",
        "  f, (ax1, ax2) = plt.subplots(1,2,sharey=True, figsize = (9,4))\n",
        "  ax1.matshow(x1, vmin=0, vmax = 1, cmap = plt.cm.gray)\n",
        "  ax1.set_title(\"Original\")\n",
        "  ax2.matshow(x2, vmin=0, vmax = 1, cmap = plt.cm.gray)\n",
        "  ax2.set_title(\"Transformed\")\n",
        "  plt.show()"
      ],
      "execution_count": 14,
      "outputs": [
        {
          "output_type": "stream",
          "text": [
            "/usr/local/lib/python3.6/dist-packages/scipy/ndimage/interpolation.py:600: UserWarning: From scipy 0.13.0, the output shape of zoom() is calculated with round() instead of int() - for these inputs the size of the returned array has changed.\n",
            "  \"the returned array has changed.\", UserWarning)\n"
          ],
          "name": "stderr"
        },
        {
          "output_type": "display_data",
          "data": {
            "image/png": "[encoded data removed]",
            "text/plain": [
              "<matplotlib.figure.Figure at 0x7f5af9445c18>"
            ]
          },
          "metadata": {
            "tags": []
          }
        },
        {
          "output_type": "display_data",
          "data": {
            "image/png": "[encoded data removed]",
            "text/plain": [
              "<matplotlib.figure.Figure at 0x7f5ad32ebda0>"
            ]
          },
          "metadata": {
            "tags": []
          }
        }
      ]
    },
    {
      "metadata": {
        "id": "W3WsCqY2rk_u",
        "colab_type": "text"
      },
      "cell_type": "markdown",
      "source": [
        "### RUN"
      ]
    },
    {
      "metadata": {
        "id": "2419QgML4VxM",
        "colab_type": "code",
        "colab": {
          "base_uri": "https://localhost:8080/",
          "height": 496
        },
        "outputId": "cbf039fa-deda-4b89-a6ea-8fa0c8bd7a32"
      },
      "cell_type": "code",
      "source": [
        "# pARAMETERS\n",
        "training_epochs = 20\n",
        "batch_size = 256\n",
        "display_step = 4\n",
        "val_acc = 0\n",
        "val_acc_max = 0\n",
        "\n",
        "#Optimize\n",
        "\n",
        "for epoch in range(training_epochs):\n",
        "  avg_cost = 0\n",
        "  total_batch = int(mnist.train.num_examples/batch_size)\n",
        "  # Iteration\n",
        "  for i in range (total_batch):\n",
        "    batch_x, batch_y = mnist.train.next_batch(batch_size)\n",
        "    #Augment Data\n",
        "    if np.random.rand()<0.2:\n",
        "      batch_x = augment_img(batch_x)\n",
        "    feeds = {x: batch_x, y: batch_y, is_training: True}\n",
        "    sess.run(optm, feed_dict=feeds)\n",
        "    avg_cost += sess.run(cost, feed_dict = feeds)\n",
        "  avg_cost = avg_cost / total_batch\n",
        "  \n",
        "  # Display\n",
        "  if (epoch+1)%display_step ==0:\n",
        "    print (\"Epoch: %03d/%03d Cost: %.9f\" % (epoch+1, training_epochs, avg_cost))\n",
        "    randidx = np.random.permutation(trainimg.shape[0])[:500]\n",
        "    feeds = {x:trainimg[randidx], y: trainlabel[randidx], is_training: False}\n",
        "    train_acc = sess.run(accr, feed_dict = feeds)\n",
        "    print (\"Train Accuracy: %.5f\" % (train_acc))\n",
        "    feeds = {x: valimg, y: vallabel, is_training: False}\n",
        "    val_acc = sess.run(accr, feed_dict = feeds)\n",
        "    print(\"Validation Accuracy: %.5f\" %(val_acc))\n",
        "  \n",
        "  # Save\n",
        "  if (epoch+1)%save_step == 0:\n",
        "    savename = savedir + \"net-\" +str(epoch)+\".ckpt\"\n",
        "    saver.save(sess=sess, save_path = savename)\n",
        "    print (\" [%s] SAVED.\" % savename)\n",
        "  \n",
        "  # Maximum Validation Accuracy\n",
        "  if val_acc>val_acc_max:\n",
        "    val_acc_max = val_acc\n",
        "    best_epoch = epoch\n",
        "    print (\"\\x1b[31m BEST EPOCH UPDATED!! [%d] \\x1b[0m\" % (best_epoch))\n",
        "print (\"Optimization Finished\")"
      ],
      "execution_count": 17,
      "outputs": [
        {
          "output_type": "stream",
          "text": [
            "/usr/local/lib/python3.6/dist-packages/scipy/ndimage/interpolation.py:600: UserWarning: From scipy 0.13.0, the output shape of zoom() is calculated with round() instead of int() - for these inputs the size of the returned array has changed.\n",
            "  \"the returned array has changed.\", UserWarning)\n"
          ],
          "name": "stderr"
        },
        {
          "output_type": "stream",
          "text": [
            "Epoch: 004/020 Cost: 0.051506778\n",
            "Train Accuracy: 0.99400\n",
            "Validation Accuracy: 0.98840\n",
            " [nets/cnn_mnist_modernnet-3.ckpt] SAVED.\n",
            "\u001b[31m BEST EPOCH UPDATED!! [3] \u001b[0m\n",
            "Epoch: 008/020 Cost: 0.032999793\n",
            "Train Accuracy: 0.99800\n",
            "Validation Accuracy: 0.98880\n",
            " [nets/cnn_mnist_modernnet-7.ckpt] SAVED.\n",
            "\u001b[31m BEST EPOCH UPDATED!! [7] \u001b[0m\n",
            "Epoch: 012/020 Cost: 0.024630571\n",
            "Train Accuracy: 1.00000\n",
            "Validation Accuracy: 0.99020\n",
            " [nets/cnn_mnist_modernnet-11.ckpt] SAVED.\n",
            "\u001b[31m BEST EPOCH UPDATED!! [11] \u001b[0m\n",
            "Epoch: 016/020 Cost: 0.022990071\n",
            "Train Accuracy: 0.99800\n",
            "Validation Accuracy: 0.99080\n",
            " [nets/cnn_mnist_modernnet-15.ckpt] SAVED.\n",
            "\u001b[31m BEST EPOCH UPDATED!! [15] \u001b[0m\n",
            "Epoch: 020/020 Cost: 0.022233902\n",
            "Train Accuracy: 0.99800\n",
            "Validation Accuracy: 0.98740\n",
            " [nets/cnn_mnist_modernnet-19.ckpt] SAVED.\n",
            "Optimization Finished\n"
          ],
          "name": "stdout"
        }
      ]
    },
    {
      "metadata": {
        "id": "EX_IhiVE7LKC",
        "colab_type": "text"
      },
      "cell_type": "markdown",
      "source": [
        "### Compute Test Accuracy"
      ]
    },
    {
      "metadata": {
        "id": "hxZuLsWX7g7b",
        "colab_type": "code",
        "colab": {
          "base_uri": "https://localhost:8080/",
          "height": 68
        },
        "outputId": "131c4ef7-38e8-422f-b073-c1b10677f792"
      },
      "cell_type": "code",
      "source": [
        "best_epoch = 15\n",
        "restorename = savedir + \"net-\" +str(best_epoch)+\".ckpt\"\n",
        "print (\"Loading [%s]\" % (restorename))\n",
        "saver.restore(sess, restorename)\n",
        "feeds = {x:testimg, y: testlabel, is_training: False}\n",
        "test_acc = sess.run(accr, feed_dict = feeds)\n",
        "print (\"Test Accuracy: %.5f\" % (test_acc))\n"
      ],
      "execution_count": 27,
      "outputs": [
        {
          "output_type": "stream",
          "text": [
            "Loading [nets/cnn_mnist_modernnet-15.ckpt]\n",
            "INFO:tensorflow:Restoring parameters from nets/cnn_mnist_modernnet-15.ckpt\n",
            "Test Accuracy: 0.98990\n"
          ],
          "name": "stdout"
        }
      ]
    },
    {
      "metadata": {
        "id": "fp2SIv9s81-k",
        "colab_type": "code",
        "colab": {}
      },
      "cell_type": "code",
      "source": [
        ""
      ],
      "execution_count": 0,
      "outputs": []
    }
  ]
}